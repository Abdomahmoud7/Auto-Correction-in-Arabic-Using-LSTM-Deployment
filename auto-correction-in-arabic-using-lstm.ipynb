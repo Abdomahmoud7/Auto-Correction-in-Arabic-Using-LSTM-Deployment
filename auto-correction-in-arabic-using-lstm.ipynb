{
 "cells": [
  {
   "cell_type": "code",
   "execution_count": 1,
   "metadata": {
    "_cell_guid": "b1076dfc-b9ad-4769-8c92-a6c4dae69d19",
    "_uuid": "8f2839f25d086af736a60e9eeb907d3b93b6e0e5",
    "execution": {
     "iopub.execute_input": "2025-02-01T15:18:22.447562Z",
     "iopub.status.busy": "2025-02-01T15:18:22.447323Z",
     "iopub.status.idle": "2025-02-01T15:18:23.370658Z",
     "shell.execute_reply": "2025-02-01T15:18:23.369772Z",
     "shell.execute_reply.started": "2025-02-01T15:18:22.447541Z"
    },
    "trusted": true
   },
   "outputs": [
    {
     "name": "stdout",
     "output_type": "stream",
     "text": [
      "/kaggle/input/arabic/valid.csv\n",
      "/kaggle/input/arabic/train.csv\n"
     ]
    }
   ],
   "source": [
    "# This Python 3 environment comes with many helpful analytics libraries installed\n",
    "# It is defined by the kaggle/python Docker image: https://github.com/kaggle/docker-python\n",
    "# For example, here's several helpful packages to load\n",
    "\n",
    "import numpy as np # linear algebra\n",
    "import pandas as pd # data processing, CSV file I/O (e.g. pd.read_csv)\n",
    "\n",
    "# Input data files are available in the read-only \"../input/\" directory\n",
    "# For example, running this (by clicking run or pressing Shift+Enter) will list all files under the input directory\n",
    "\n",
    "import os\n",
    "for dirname, _, filenames in os.walk('/kaggle/input'):\n",
    "    for filename in filenames:\n",
    "        print(os.path.join(dirname, filename))\n",
    "\n",
    "# You can write up to 20GB to the current directory (/kaggle/working/) that gets preserved as output when you create a version using \"Save & Run All\" \n",
    "# You can also write temporary files to /kaggle/temp/, but they won't be saved outside of the current session"
   ]
  },
  {
   "cell_type": "markdown",
   "metadata": {},
   "source": [
    "# Import Necessary Libraies"
   ]
  },
  {
   "cell_type": "code",
   "execution_count": 2,
   "metadata": {
    "execution": {
     "iopub.execute_input": "2025-02-01T15:18:25.337423Z",
     "iopub.status.busy": "2025-02-01T15:18:25.337081Z",
     "iopub.status.idle": "2025-02-01T15:18:33.095323Z",
     "shell.execute_reply": "2025-02-01T15:18:33.094334Z",
     "shell.execute_reply.started": "2025-02-01T15:18:25.337395Z"
    },
    "trusted": true
   },
   "outputs": [
    {
     "name": "stdout",
     "output_type": "stream",
     "text": [
      "Requirement already satisfied: emoji in /usr/local/lib/python3.10/dist-packages (2.14.0)\n",
      "Collecting arabic-reshaper\n",
      "  Downloading arabic_reshaper-3.0.0-py3-none-any.whl.metadata (12 kB)\n",
      "Downloading arabic_reshaper-3.0.0-py3-none-any.whl (20 kB)\n",
      "Installing collected packages: arabic-reshaper\n",
      "Successfully installed arabic-reshaper-3.0.0\n"
     ]
    }
   ],
   "source": [
    "!pip install emoji\n",
    "!pip install arabic-reshaper"
   ]
  },
  {
   "cell_type": "code",
   "execution_count": 3,
   "metadata": {
    "execution": {
     "iopub.execute_input": "2025-02-01T15:18:33.096940Z",
     "iopub.status.busy": "2025-02-01T15:18:33.096643Z",
     "iopub.status.idle": "2025-02-01T15:18:52.729020Z",
     "shell.execute_reply": "2025-02-01T15:18:52.728346Z",
     "shell.execute_reply.started": "2025-02-01T15:18:33.096906Z"
    },
    "trusted": true
   },
   "outputs": [
    {
     "name": "stdout",
     "output_type": "stream",
     "text": [
      "[nltk_data] Downloading package punkt to /usr/share/nltk_data...\n",
      "[nltk_data]   Package punkt is already up-to-date!\n",
      "[nltk_data] Downloading package stopwords to /usr/share/nltk_data...\n",
      "[nltk_data]   Package stopwords is already up-to-date!\n"
     ]
    }
   ],
   "source": [
    "import pandas as pd\n",
    "import nltk\n",
    "nltk.download('punkt')\n",
    "from nltk import word_tokenize\n",
    "nltk.download('stopwords')\n",
    "import re\n",
    "import string\n",
    "import emoji\n",
    "import random\n",
    "import arabic_reshaper\n",
    "from bidi.algorithm import get_display\n",
    "import numpy as np\n",
    "import tensorflow as tf\n",
    "from tensorflow.keras.layers import Input, Embedding, LSTM, Dense\n",
    "from tensorflow.keras.models import Model\n",
    "from tensorflow.keras.optimizers import Adam\n",
    "from sklearn.model_selection import train_test_split\n",
    "from tensorflow.keras.preprocessing.sequence import pad_sequences\n",
    "from transformers import AutoTokenizer\n",
    "# Ignore Warnings\n",
    "import warnings\n",
    "warnings.filterwarnings(\"ignore\")"
   ]
  },
  {
   "cell_type": "markdown",
   "metadata": {},
   "source": [
    "# Loding The Train Data"
   ]
  },
  {
   "cell_type": "code",
   "execution_count": 4,
   "metadata": {
    "execution": {
     "iopub.execute_input": "2025-02-01T15:18:58.910922Z",
     "iopub.status.busy": "2025-02-01T15:18:58.910246Z",
     "iopub.status.idle": "2025-02-01T15:18:59.513983Z",
     "shell.execute_reply": "2025-02-01T15:18:59.513285Z",
     "shell.execute_reply.started": "2025-02-01T15:18:58.910890Z"
    },
    "trusted": true
   },
   "outputs": [],
   "source": [
    "# reading the train data\n",
    "df_train =pd.read_csv(\"/kaggle/input/arabic/train.csv\")"
   ]
  },
  {
   "cell_type": "code",
   "execution_count": 5,
   "metadata": {
    "execution": {
     "iopub.execute_input": "2025-02-01T15:19:06.668850Z",
     "iopub.status.busy": "2025-02-01T15:19:06.668538Z",
     "iopub.status.idle": "2025-02-01T15:19:06.688217Z",
     "shell.execute_reply": "2025-02-01T15:19:06.687086Z",
     "shell.execute_reply.started": "2025-02-01T15:19:06.668823Z"
    },
    "trusted": true
   },
   "outputs": [
    {
     "data": {
      "text/html": [
       "<div>\n",
       "<style scoped>\n",
       "    .dataframe tbody tr th:only-of-type {\n",
       "        vertical-align: middle;\n",
       "    }\n",
       "\n",
       "    .dataframe tbody tr th {\n",
       "        vertical-align: top;\n",
       "    }\n",
       "\n",
       "    .dataframe thead th {\n",
       "        text-align: right;\n",
       "    }\n",
       "</style>\n",
       "<table border=\"1\" class=\"dataframe\">\n",
       "  <thead>\n",
       "    <tr style=\"text-align: right;\">\n",
       "      <th></th>\n",
       "      <th>correct</th>\n",
       "      <th>incorrect</th>\n",
       "    </tr>\n",
       "  </thead>\n",
       "  <tbody>\n",
       "    <tr>\n",
       "      <th>0</th>\n",
       "      <td>سبحان الله ، الحكام العرب سيموت علي الكرسي ليظ...</td>\n",
       "      <td>سبحان الله الحكام العرب سيموت علي الكرسي ليضهر...</td>\n",
       "    </tr>\n",
       "    <tr>\n",
       "      <th>1</th>\n",
       "      <td>النصر ات لا محال ان شاء الله . من يءمن بالله و...</td>\n",
       "      <td>النصر ات لا محال انشاء الله من يءمن بالله والي...</td>\n",
       "    </tr>\n",
       "    <tr>\n",
       "      <th>2</th>\n",
       "      <td>الي كل شخص يعتقد ان بشار الاسد سوف يخرج من سور...</td>\n",
       "      <td>الي كل شخص يعتقد ان بشار الاسد سوف يخرج من سور...</td>\n",
       "    </tr>\n",
       "    <tr>\n",
       "      <th>3</th>\n",
       "      <td>الاسد وعصابته - لحد الان - غير مستوعبين انه رح...</td>\n",
       "      <td>الاسد وعصابته لحد الان غير مستوعبين ان و رح ين...</td>\n",
       "    </tr>\n",
       "    <tr>\n",
       "      <th>4</th>\n",
       "      <td>النظام الاسدي تجاوز حتي ما فعله معمر القذافي ف...</td>\n",
       "      <td>النظام الاسدي تجاوز حتي ما فعله معمر القذافي ف...</td>\n",
       "    </tr>\n",
       "  </tbody>\n",
       "</table>\n",
       "</div>"
      ],
      "text/plain": [
       "                                             correct  \\\n",
       "0  سبحان الله ، الحكام العرب سيموت علي الكرسي ليظ...   \n",
       "1  النصر ات لا محال ان شاء الله . من يءمن بالله و...   \n",
       "2  الي كل شخص يعتقد ان بشار الاسد سوف يخرج من سور...   \n",
       "3  الاسد وعصابته - لحد الان - غير مستوعبين انه رح...   \n",
       "4  النظام الاسدي تجاوز حتي ما فعله معمر القذافي ف...   \n",
       "\n",
       "                                           incorrect  \n",
       "0  سبحان الله الحكام العرب سيموت علي الكرسي ليضهر...  \n",
       "1  النصر ات لا محال انشاء الله من يءمن بالله والي...  \n",
       "2  الي كل شخص يعتقد ان بشار الاسد سوف يخرج من سور...  \n",
       "3  الاسد وعصابته لحد الان غير مستوعبين ان و رح ين...  \n",
       "4  النظام الاسدي تجاوز حتي ما فعله معمر القذافي ف...  "
      ]
     },
     "execution_count": 5,
     "metadata": {},
     "output_type": "execute_result"
    }
   ],
   "source": [
    "# print sample of the data\n",
    "df_train.head()"
   ]
  },
  {
   "cell_type": "code",
   "execution_count": 6,
   "metadata": {
    "execution": {
     "iopub.execute_input": "2025-02-01T15:19:10.786737Z",
     "iopub.status.busy": "2025-02-01T15:19:10.786439Z",
     "iopub.status.idle": "2025-02-01T15:19:10.793566Z",
     "shell.execute_reply": "2025-02-01T15:19:10.792667Z",
     "shell.execute_reply.started": "2025-02-01T15:19:10.786715Z"
    },
    "trusted": true
   },
   "outputs": [
    {
     "data": {
      "text/plain": [
       "(18350, 2)"
      ]
     },
     "execution_count": 6,
     "metadata": {},
     "output_type": "execute_result"
    }
   ],
   "source": [
    "df_train.shape"
   ]
  },
  {
   "cell_type": "markdown",
   "metadata": {},
   "source": [
    "# Loding The Valid Data"
   ]
  },
  {
   "cell_type": "code",
   "execution_count": 7,
   "metadata": {
    "execution": {
     "iopub.execute_input": "2025-02-01T15:19:41.923937Z",
     "iopub.status.busy": "2025-02-01T15:19:41.923666Z",
     "iopub.status.idle": "2025-02-01T15:19:42.008190Z",
     "shell.execute_reply": "2025-02-01T15:19:42.007574Z",
     "shell.execute_reply.started": "2025-02-01T15:19:41.923915Z"
    },
    "trusted": true
   },
   "outputs": [],
   "source": [
    "df_valid=pd.read_csv(\"/kaggle/input/arabic/valid.csv\")"
   ]
  },
  {
   "cell_type": "code",
   "execution_count": 8,
   "metadata": {
    "execution": {
     "iopub.execute_input": "2025-02-01T15:19:47.474642Z",
     "iopub.status.busy": "2025-02-01T15:19:47.474288Z",
     "iopub.status.idle": "2025-02-01T15:19:47.482811Z",
     "shell.execute_reply": "2025-02-01T15:19:47.481969Z",
     "shell.execute_reply.started": "2025-02-01T15:19:47.474612Z"
    },
    "trusted": true
   },
   "outputs": [
    {
     "data": {
      "text/html": [
       "<div>\n",
       "<style scoped>\n",
       "    .dataframe tbody tr th:only-of-type {\n",
       "        vertical-align: middle;\n",
       "    }\n",
       "\n",
       "    .dataframe tbody tr th {\n",
       "        vertical-align: top;\n",
       "    }\n",
       "\n",
       "    .dataframe thead th {\n",
       "        text-align: right;\n",
       "    }\n",
       "</style>\n",
       "<table border=\"1\" class=\"dataframe\">\n",
       "  <thead>\n",
       "    <tr style=\"text-align: right;\">\n",
       "      <th></th>\n",
       "      <th>correct</th>\n",
       "      <th>incorrect</th>\n",
       "    </tr>\n",
       "  </thead>\n",
       "  <tbody>\n",
       "    <tr>\n",
       "      <th>0</th>\n",
       "      <td>لا يعتقد البعض بان ضغوطات الغرب علي سوريا هي ش...</td>\n",
       "      <td>لا يعتقد البعض بان ضغوطات الغرب علي سوريا هي ش...</td>\n",
       "    </tr>\n",
       "    <tr>\n",
       "      <th>1</th>\n",
       "      <td>انا متاكد ان التعليمات تاتي من الغرب لزعماء ال...</td>\n",
       "      <td>انا متاكد ان التعليمات تاتي من الغرب لزعماء ال...</td>\n",
       "    </tr>\n",
       "    <tr>\n",
       "      <th>2</th>\n",
       "      <td>اناشد الاخوه في مصر ارض الكنانه ان يتقوا الله ...</td>\n",
       "      <td>اناشد الاخوه في مصر ارض الكنانه ان يتقوا الله ...</td>\n",
       "    </tr>\n",
       "    <tr>\n",
       "      <th>3</th>\n",
       "      <td>علي من ميلانو يقول : ان سوريا بغالبيتها التي ت...</td>\n",
       "      <td>علي من ميلانوا يقول ان سوريا بغالبيته التي تبل...</td>\n",
       "    </tr>\n",
       "    <tr>\n",
       "      <th>4</th>\n",
       "      <td>قسما بالله ، انا اعرف اهل حمص ، اليوم شيعنا خي...</td>\n",
       "      <td>قسما بالله انا اعرف اهل حمص اليوم شيعنا خيره ا...</td>\n",
       "    </tr>\n",
       "    <tr>\n",
       "      <th>5</th>\n",
       "      <td>اصلا لا توجد القاعده في بلاد المغرب العربي ، ب...</td>\n",
       "      <td>اصلا لاتوجد القاعده في بلاد المغرب العربي بل ا...</td>\n",
       "    </tr>\n",
       "    <tr>\n",
       "      <th>6</th>\n",
       "      <td>بصراحه ، عندما كانت الجزيره جزيره العرب كنا نش...</td>\n",
       "      <td>بصراحه عندما كانت الجزيره جزيره العرب كنا نشاه...</td>\n",
       "    </tr>\n",
       "    <tr>\n",
       "      <th>7</th>\n",
       "      <td>اذا حزب الجنوب اللبناني اعلن الحرب علي الشعب ا...</td>\n",
       "      <td>اذا حزب الجنوب اللبناني اعلن الحرب علي الشعب ا...</td>\n",
       "    </tr>\n",
       "    <tr>\n",
       "      <th>8</th>\n",
       "      <td>ان هءلاء القتلي هم شباب قتلهم الخوارج ، ولمن ي...</td>\n",
       "      <td>ان هاءلاء القتلي هم شباب قتلهم الخوارج و لمن ي...</td>\n",
       "    </tr>\n",
       "    <tr>\n",
       "      <th>9</th>\n",
       "      <td>بعض الذين يدعمون الارهاب يحاولون تبرءه القتله ...</td>\n",
       "      <td>بعض الذين يدعمون الارهاب يحاولون تبرءه القتله ...</td>\n",
       "    </tr>\n",
       "  </tbody>\n",
       "</table>\n",
       "</div>"
      ],
      "text/plain": [
       "                                             correct  \\\n",
       "0  لا يعتقد البعض بان ضغوطات الغرب علي سوريا هي ش...   \n",
       "1  انا متاكد ان التعليمات تاتي من الغرب لزعماء ال...   \n",
       "2  اناشد الاخوه في مصر ارض الكنانه ان يتقوا الله ...   \n",
       "3  علي من ميلانو يقول : ان سوريا بغالبيتها التي ت...   \n",
       "4  قسما بالله ، انا اعرف اهل حمص ، اليوم شيعنا خي...   \n",
       "5  اصلا لا توجد القاعده في بلاد المغرب العربي ، ب...   \n",
       "6  بصراحه ، عندما كانت الجزيره جزيره العرب كنا نش...   \n",
       "7  اذا حزب الجنوب اللبناني اعلن الحرب علي الشعب ا...   \n",
       "8  ان هءلاء القتلي هم شباب قتلهم الخوارج ، ولمن ي...   \n",
       "9  بعض الذين يدعمون الارهاب يحاولون تبرءه القتله ...   \n",
       "\n",
       "                                           incorrect  \n",
       "0  لا يعتقد البعض بان ضغوطات الغرب علي سوريا هي ش...  \n",
       "1  انا متاكد ان التعليمات تاتي من الغرب لزعماء ال...  \n",
       "2  اناشد الاخوه في مصر ارض الكنانه ان يتقوا الله ...  \n",
       "3  علي من ميلانوا يقول ان سوريا بغالبيته التي تبل...  \n",
       "4  قسما بالله انا اعرف اهل حمص اليوم شيعنا خيره ا...  \n",
       "5  اصلا لاتوجد القاعده في بلاد المغرب العربي بل ا...  \n",
       "6  بصراحه عندما كانت الجزيره جزيره العرب كنا نشاه...  \n",
       "7  اذا حزب الجنوب اللبناني اعلن الحرب علي الشعب ا...  \n",
       "8  ان هاءلاء القتلي هم شباب قتلهم الخوارج و لمن ي...  \n",
       "9  بعض الذين يدعمون الارهاب يحاولون تبرءه القتله ...  "
      ]
     },
     "execution_count": 8,
     "metadata": {},
     "output_type": "execute_result"
    }
   ],
   "source": [
    "# print a sample of valid data\n",
    "df_valid.head(10)"
   ]
  },
  {
   "cell_type": "code",
   "execution_count": 9,
   "metadata": {
    "execution": {
     "iopub.execute_input": "2025-02-01T15:19:52.550372Z",
     "iopub.status.busy": "2025-02-01T15:19:52.550070Z",
     "iopub.status.idle": "2025-02-01T15:19:52.563987Z",
     "shell.execute_reply": "2025-02-01T15:19:52.563259Z",
     "shell.execute_reply.started": "2025-02-01T15:19:52.550349Z"
    },
    "trusted": true
   },
   "outputs": [
    {
     "data": {
      "text/html": [
       "<div>\n",
       "<style scoped>\n",
       "    .dataframe tbody tr th:only-of-type {\n",
       "        vertical-align: middle;\n",
       "    }\n",
       "\n",
       "    .dataframe tbody tr th {\n",
       "        vertical-align: top;\n",
       "    }\n",
       "\n",
       "    .dataframe thead th {\n",
       "        text-align: right;\n",
       "    }\n",
       "</style>\n",
       "<table border=\"1\" class=\"dataframe\">\n",
       "  <thead>\n",
       "    <tr style=\"text-align: right;\">\n",
       "      <th></th>\n",
       "      <th>correct</th>\n",
       "      <th>incorrect</th>\n",
       "    </tr>\n",
       "  </thead>\n",
       "  <tbody>\n",
       "    <tr>\n",
       "      <th>0</th>\n",
       "      <td>سبحان الله ، الحكام العرب سيموت علي الكرسي ليظ...</td>\n",
       "      <td>سبحان الله الحكام العرب سيموت علي الكرسي ليضهر...</td>\n",
       "    </tr>\n",
       "    <tr>\n",
       "      <th>1</th>\n",
       "      <td>النصر ات لا محال ان شاء الله . من يءمن بالله و...</td>\n",
       "      <td>النصر ات لا محال انشاء الله من يءمن بالله والي...</td>\n",
       "    </tr>\n",
       "    <tr>\n",
       "      <th>2</th>\n",
       "      <td>الي كل شخص يعتقد ان بشار الاسد سوف يخرج من سور...</td>\n",
       "      <td>الي كل شخص يعتقد ان بشار الاسد سوف يخرج من سور...</td>\n",
       "    </tr>\n",
       "    <tr>\n",
       "      <th>3</th>\n",
       "      <td>الاسد وعصابته - لحد الان - غير مستوعبين انه رح...</td>\n",
       "      <td>الاسد وعصابته لحد الان غير مستوعبين ان و رح ين...</td>\n",
       "    </tr>\n",
       "    <tr>\n",
       "      <th>4</th>\n",
       "      <td>النظام الاسدي تجاوز حتي ما فعله معمر القذافي ف...</td>\n",
       "      <td>النظام الاسدي تجاوز حتي ما فعله معمر القذافي ف...</td>\n",
       "    </tr>\n",
       "    <tr>\n",
       "      <th>...</th>\n",
       "      <td>...</td>\n",
       "      <td>...</td>\n",
       "    </tr>\n",
       "    <tr>\n",
       "      <th>2288</th>\n",
       "      <td>اعتقد ان اي مسلم من المستحيل ان يفعل هذا ، سوا...</td>\n",
       "      <td>اعتقد ان اي مسلم من المستحيل ان يفعل هذا سواء ...</td>\n",
       "    </tr>\n",
       "    <tr>\n",
       "      <th>2289</th>\n",
       "      <td>( . . وهو يصلح جدران بيته ويصبغها ، وحينما يست...</td>\n",
       "      <td>( . . وهو يصلح جدران بيته ويصبغها وحينما يستعص...</td>\n",
       "    </tr>\n",
       "    <tr>\n",
       "      <th>2290</th>\n",
       "      <td>انا استغرب ممن ينكر علي الجزيره ويصفها باثاره ...</td>\n",
       "      <td>انا استغرب ممن ينكر علي الجزيره ويصفها باثاره ...</td>\n",
       "    </tr>\n",
       "    <tr>\n",
       "      <th>2291</th>\n",
       "      <td>تصرف طبيعي ، اي انسان في امريكا يتعرض بالنقد ل...</td>\n",
       "      <td>تصرف طبيعي اي انسان في امريكا يتعرض بالنقد للي...</td>\n",
       "    </tr>\n",
       "    <tr>\n",
       "      <th>2292</th>\n",
       "      <td>اسراءيل سوف لن تنهار بهذه السهوله ، الا اذا تا...</td>\n",
       "      <td>اسراءيل سوف لن تنهار بهذه السهوله , الا اذا تا...</td>\n",
       "    </tr>\n",
       "  </tbody>\n",
       "</table>\n",
       "<p>20643 rows × 2 columns</p>\n",
       "</div>"
      ],
      "text/plain": [
       "                                                correct  \\\n",
       "0     سبحان الله ، الحكام العرب سيموت علي الكرسي ليظ...   \n",
       "1     النصر ات لا محال ان شاء الله . من يءمن بالله و...   \n",
       "2     الي كل شخص يعتقد ان بشار الاسد سوف يخرج من سور...   \n",
       "3     الاسد وعصابته - لحد الان - غير مستوعبين انه رح...   \n",
       "4     النظام الاسدي تجاوز حتي ما فعله معمر القذافي ف...   \n",
       "...                                                 ...   \n",
       "2288  اعتقد ان اي مسلم من المستحيل ان يفعل هذا ، سوا...   \n",
       "2289  ( . . وهو يصلح جدران بيته ويصبغها ، وحينما يست...   \n",
       "2290  انا استغرب ممن ينكر علي الجزيره ويصفها باثاره ...   \n",
       "2291  تصرف طبيعي ، اي انسان في امريكا يتعرض بالنقد ل...   \n",
       "2292  اسراءيل سوف لن تنهار بهذه السهوله ، الا اذا تا...   \n",
       "\n",
       "                                              incorrect  \n",
       "0     سبحان الله الحكام العرب سيموت علي الكرسي ليضهر...  \n",
       "1     النصر ات لا محال انشاء الله من يءمن بالله والي...  \n",
       "2     الي كل شخص يعتقد ان بشار الاسد سوف يخرج من سور...  \n",
       "3     الاسد وعصابته لحد الان غير مستوعبين ان و رح ين...  \n",
       "4     النظام الاسدي تجاوز حتي ما فعله معمر القذافي ف...  \n",
       "...                                                 ...  \n",
       "2288  اعتقد ان اي مسلم من المستحيل ان يفعل هذا سواء ...  \n",
       "2289  ( . . وهو يصلح جدران بيته ويصبغها وحينما يستعص...  \n",
       "2290  انا استغرب ممن ينكر علي الجزيره ويصفها باثاره ...  \n",
       "2291  تصرف طبيعي اي انسان في امريكا يتعرض بالنقد للي...  \n",
       "2292  اسراءيل سوف لن تنهار بهذه السهوله , الا اذا تا...  \n",
       "\n",
       "[20643 rows x 2 columns]"
      ]
     },
     "execution_count": 9,
     "metadata": {},
     "output_type": "execute_result"
    }
   ],
   "source": [
    "df = pd.concat([df_train, df_valid])\n",
    "df"
   ]
  },
  {
   "cell_type": "code",
   "execution_count": 10,
   "metadata": {
    "execution": {
     "iopub.execute_input": "2025-02-01T15:19:57.320350Z",
     "iopub.status.busy": "2025-02-01T15:19:57.320023Z",
     "iopub.status.idle": "2025-02-01T15:19:57.350469Z",
     "shell.execute_reply": "2025-02-01T15:19:57.349569Z",
     "shell.execute_reply.started": "2025-02-01T15:19:57.320292Z"
    },
    "trusted": true
   },
   "outputs": [
    {
     "name": "stdout",
     "output_type": "stream",
     "text": [
      "<class 'pandas.core.frame.DataFrame'>\n",
      "Index: 20643 entries, 0 to 2292\n",
      "Data columns (total 2 columns):\n",
      " #   Column     Non-Null Count  Dtype \n",
      "---  ------     --------------  ----- \n",
      " 0   correct    20643 non-null  object\n",
      " 1   incorrect  20643 non-null  object\n",
      "dtypes: object(2)\n",
      "memory usage: 483.8+ KB\n"
     ]
    }
   ],
   "source": [
    "df.info()"
   ]
  },
  {
   "cell_type": "markdown",
   "metadata": {},
   "source": [
    "# EDA"
   ]
  },
  {
   "cell_type": "code",
   "execution_count": 11,
   "metadata": {
    "execution": {
     "iopub.execute_input": "2025-02-01T15:20:09.409385Z",
     "iopub.status.busy": "2025-02-01T15:20:09.409073Z",
     "iopub.status.idle": "2025-02-01T15:20:19.200148Z",
     "shell.execute_reply": "2025-02-01T15:20:19.199230Z",
     "shell.execute_reply.started": "2025-02-01T15:20:09.409364Z"
    },
    "trusted": true
   },
   "outputs": [
    {
     "data": {
      "text/html": [
       "<div>\n",
       "<style scoped>\n",
       "    .dataframe tbody tr th:only-of-type {\n",
       "        vertical-align: middle;\n",
       "    }\n",
       "\n",
       "    .dataframe tbody tr th {\n",
       "        vertical-align: top;\n",
       "    }\n",
       "\n",
       "    .dataframe thead th {\n",
       "        text-align: right;\n",
       "    }\n",
       "</style>\n",
       "<table border=\"1\" class=\"dataframe\">\n",
       "  <thead>\n",
       "    <tr style=\"text-align: right;\">\n",
       "      <th></th>\n",
       "      <th>correct</th>\n",
       "      <th>incorrect</th>\n",
       "      <th>word_count_correct</th>\n",
       "      <th>word_count_incorrect</th>\n",
       "      <th>stopwords_correct</th>\n",
       "      <th>stopwords_incorrect</th>\n",
       "      <th>emoji_count_correct</th>\n",
       "      <th>emoji_count_incorrect</th>\n",
       "    </tr>\n",
       "  </thead>\n",
       "  <tbody>\n",
       "    <tr>\n",
       "      <th>0</th>\n",
       "      <td>سبحان الله ، الحكام العرب سيموت علي الكرسي ليظ...</td>\n",
       "      <td>سبحان الله الحكام العرب سيموت علي الكرسي ليضهر...</td>\n",
       "      <td>65</td>\n",
       "      <td>59</td>\n",
       "      <td>12</td>\n",
       "      <td>8</td>\n",
       "      <td>0</td>\n",
       "      <td>0</td>\n",
       "    </tr>\n",
       "    <tr>\n",
       "      <th>1</th>\n",
       "      <td>النصر ات لا محال ان شاء الله . من يءمن بالله و...</td>\n",
       "      <td>النصر ات لا محال انشاء الله من يءمن بالله والي...</td>\n",
       "      <td>54</td>\n",
       "      <td>45</td>\n",
       "      <td>10</td>\n",
       "      <td>10</td>\n",
       "      <td>0</td>\n",
       "      <td>0</td>\n",
       "    </tr>\n",
       "    <tr>\n",
       "      <th>2</th>\n",
       "      <td>الي كل شخص يعتقد ان بشار الاسد سوف يخرج من سور...</td>\n",
       "      <td>الي كل شخص يعتقد ان بشار الاسد سوف يخرج من سور...</td>\n",
       "      <td>66</td>\n",
       "      <td>57</td>\n",
       "      <td>7</td>\n",
       "      <td>7</td>\n",
       "      <td>0</td>\n",
       "      <td>0</td>\n",
       "    </tr>\n",
       "    <tr>\n",
       "      <th>3</th>\n",
       "      <td>الاسد وعصابته - لحد الان - غير مستوعبين انه رح...</td>\n",
       "      <td>الاسد وعصابته لحد الان غير مستوعبين ان و رح ين...</td>\n",
       "      <td>70</td>\n",
       "      <td>62</td>\n",
       "      <td>10</td>\n",
       "      <td>10</td>\n",
       "      <td>0</td>\n",
       "      <td>0</td>\n",
       "    </tr>\n",
       "    <tr>\n",
       "      <th>4</th>\n",
       "      <td>النظام الاسدي تجاوز حتي ما فعله معمر القذافي ف...</td>\n",
       "      <td>النظام الاسدي تجاوز حتي ما فعله معمر القذافي ف...</td>\n",
       "      <td>66</td>\n",
       "      <td>64</td>\n",
       "      <td>11</td>\n",
       "      <td>11</td>\n",
       "      <td>0</td>\n",
       "      <td>0</td>\n",
       "    </tr>\n",
       "  </tbody>\n",
       "</table>\n",
       "</div>"
      ],
      "text/plain": [
       "                                             correct  \\\n",
       "0  سبحان الله ، الحكام العرب سيموت علي الكرسي ليظ...   \n",
       "1  النصر ات لا محال ان شاء الله . من يءمن بالله و...   \n",
       "2  الي كل شخص يعتقد ان بشار الاسد سوف يخرج من سور...   \n",
       "3  الاسد وعصابته - لحد الان - غير مستوعبين انه رح...   \n",
       "4  النظام الاسدي تجاوز حتي ما فعله معمر القذافي ف...   \n",
       "\n",
       "                                           incorrect  word_count_correct  \\\n",
       "0  سبحان الله الحكام العرب سيموت علي الكرسي ليضهر...                  65   \n",
       "1  النصر ات لا محال انشاء الله من يءمن بالله والي...                  54   \n",
       "2  الي كل شخص يعتقد ان بشار الاسد سوف يخرج من سور...                  66   \n",
       "3  الاسد وعصابته لحد الان غير مستوعبين ان و رح ين...                  70   \n",
       "4  النظام الاسدي تجاوز حتي ما فعله معمر القذافي ف...                  66   \n",
       "\n",
       "   word_count_incorrect  stopwords_correct  stopwords_incorrect  \\\n",
       "0                    59                 12                    8   \n",
       "1                    45                 10                   10   \n",
       "2                    57                  7                    7   \n",
       "3                    62                 10                   10   \n",
       "4                    64                 11                   11   \n",
       "\n",
       "   emoji_count_correct  emoji_count_incorrect  \n",
       "0                    0                      0  \n",
       "1                    0                      0  \n",
       "2                    0                      0  \n",
       "3                    0                      0  \n",
       "4                    0                      0  "
      ]
     },
     "execution_count": 11,
     "metadata": {},
     "output_type": "execute_result"
    }
   ],
   "source": [
    "stop = set(nltk.corpus.stopwords.words(\"arabic\"))\n",
    "\n",
    "# Text length analysis\n",
    "def avg_word(sentence):\n",
    "    words = sentence.split()\n",
    "    if len(words) == 0:\n",
    "        return 0\n",
    "    return (sum(len(word) for word in words)/len(words))\n",
    "\n",
    "# Counting emoji\n",
    "def emoji_counter(sentence):\n",
    "    return emoji.emoji_count(sentence)\n",
    "\n",
    "df['word_count_correct'] = df['correct'].apply(lambda x: len(str(x).split(\" \")))\n",
    "df['word_count_incorrect'] = df['incorrect'].apply(lambda x: len(str(x).split(\" \")))\n",
    "df['stopwords_correct'] = df['correct'].apply(lambda x: len([x for x in x.split() if x in stop]))\n",
    "df['stopwords_incorrect'] = df['incorrect'].apply(lambda x: len([x for x in x.split() if x in stop]))\n",
    "df['emoji_count_correct'] = df['correct'].apply(lambda x: emoji_counter(x))\n",
    "df['emoji_count_incorrect'] = df['incorrect'].apply(lambda x: emoji_counter(x))\n",
    "df.head()"
   ]
  },
  {
   "cell_type": "code",
   "execution_count": 12,
   "metadata": {
    "execution": {
     "iopub.execute_input": "2025-02-01T15:20:19.201767Z",
     "iopub.status.busy": "2025-02-01T15:20:19.201443Z",
     "iopub.status.idle": "2025-02-01T15:20:19.227807Z",
     "shell.execute_reply": "2025-02-01T15:20:19.227137Z",
     "shell.execute_reply.started": "2025-02-01T15:20:19.201738Z"
    },
    "trusted": true
   },
   "outputs": [
    {
     "data": {
      "text/html": [
       "<div>\n",
       "<style scoped>\n",
       "    .dataframe tbody tr th:only-of-type {\n",
       "        vertical-align: middle;\n",
       "    }\n",
       "\n",
       "    .dataframe tbody tr th {\n",
       "        vertical-align: top;\n",
       "    }\n",
       "\n",
       "    .dataframe thead th {\n",
       "        text-align: right;\n",
       "    }\n",
       "</style>\n",
       "<table border=\"1\" class=\"dataframe\">\n",
       "  <thead>\n",
       "    <tr style=\"text-align: right;\">\n",
       "      <th></th>\n",
       "      <th>word_count_correct</th>\n",
       "      <th>word_count_incorrect</th>\n",
       "      <th>stopwords_correct</th>\n",
       "      <th>stopwords_incorrect</th>\n",
       "      <th>emoji_count_correct</th>\n",
       "      <th>emoji_count_incorrect</th>\n",
       "    </tr>\n",
       "  </thead>\n",
       "  <tbody>\n",
       "    <tr>\n",
       "      <th>count</th>\n",
       "      <td>20643.000000</td>\n",
       "      <td>20643.000000</td>\n",
       "      <td>20643.00000</td>\n",
       "      <td>20643.000000</td>\n",
       "      <td>20643.0</td>\n",
       "      <td>20643.0</td>\n",
       "    </tr>\n",
       "    <tr>\n",
       "      <th>mean</th>\n",
       "      <td>58.711718</td>\n",
       "      <td>54.240566</td>\n",
       "      <td>9.33561</td>\n",
       "      <td>9.744853</td>\n",
       "      <td>0.0</td>\n",
       "      <td>0.0</td>\n",
       "    </tr>\n",
       "    <tr>\n",
       "      <th>std</th>\n",
       "      <td>18.513807</td>\n",
       "      <td>17.561493</td>\n",
       "      <td>4.53619</td>\n",
       "      <td>5.036631</td>\n",
       "      <td>0.0</td>\n",
       "      <td>0.0</td>\n",
       "    </tr>\n",
       "    <tr>\n",
       "      <th>min</th>\n",
       "      <td>6.000000</td>\n",
       "      <td>6.000000</td>\n",
       "      <td>0.00000</td>\n",
       "      <td>0.000000</td>\n",
       "      <td>0.0</td>\n",
       "      <td>0.0</td>\n",
       "    </tr>\n",
       "    <tr>\n",
       "      <th>25%</th>\n",
       "      <td>51.000000</td>\n",
       "      <td>47.000000</td>\n",
       "      <td>7.00000</td>\n",
       "      <td>7.000000</td>\n",
       "      <td>0.0</td>\n",
       "      <td>0.0</td>\n",
       "    </tr>\n",
       "    <tr>\n",
       "      <th>50%</th>\n",
       "      <td>57.000000</td>\n",
       "      <td>52.000000</td>\n",
       "      <td>9.00000</td>\n",
       "      <td>9.000000</td>\n",
       "      <td>0.0</td>\n",
       "      <td>0.0</td>\n",
       "    </tr>\n",
       "    <tr>\n",
       "      <th>75%</th>\n",
       "      <td>63.000000</td>\n",
       "      <td>58.000000</td>\n",
       "      <td>11.00000</td>\n",
       "      <td>12.000000</td>\n",
       "      <td>0.0</td>\n",
       "      <td>0.0</td>\n",
       "    </tr>\n",
       "    <tr>\n",
       "      <th>max</th>\n",
       "      <td>484.000000</td>\n",
       "      <td>461.000000</td>\n",
       "      <td>132.00000</td>\n",
       "      <td>132.000000</td>\n",
       "      <td>0.0</td>\n",
       "      <td>0.0</td>\n",
       "    </tr>\n",
       "  </tbody>\n",
       "</table>\n",
       "</div>"
      ],
      "text/plain": [
       "       word_count_correct  word_count_incorrect  stopwords_correct  \\\n",
       "count        20643.000000          20643.000000        20643.00000   \n",
       "mean            58.711718             54.240566            9.33561   \n",
       "std             18.513807             17.561493            4.53619   \n",
       "min              6.000000              6.000000            0.00000   \n",
       "25%             51.000000             47.000000            7.00000   \n",
       "50%             57.000000             52.000000            9.00000   \n",
       "75%             63.000000             58.000000           11.00000   \n",
       "max            484.000000            461.000000          132.00000   \n",
       "\n",
       "       stopwords_incorrect  emoji_count_correct  emoji_count_incorrect  \n",
       "count         20643.000000              20643.0                20643.0  \n",
       "mean              9.744853                  0.0                    0.0  \n",
       "std               5.036631                  0.0                    0.0  \n",
       "min               0.000000                  0.0                    0.0  \n",
       "25%               7.000000                  0.0                    0.0  \n",
       "50%               9.000000                  0.0                    0.0  \n",
       "75%              12.000000                  0.0                    0.0  \n",
       "max             132.000000                  0.0                    0.0  "
      ]
     },
     "execution_count": 12,
     "metadata": {},
     "output_type": "execute_result"
    }
   ],
   "source": [
    "df.describe()"
   ]
  },
  {
   "cell_type": "markdown",
   "metadata": {},
   "source": [
    "# Text Preprossesing"
   ]
  },
  {
   "cell_type": "markdown",
   "metadata": {},
   "source": [
    "# Meak a incorrect data"
   ]
  },
  {
   "cell_type": "code",
   "execution_count": 13,
   "metadata": {
    "execution": {
     "iopub.execute_input": "2025-02-01T15:20:33.068417Z",
     "iopub.status.busy": "2025-02-01T15:20:33.068077Z",
     "iopub.status.idle": "2025-02-01T15:20:33.072806Z",
     "shell.execute_reply": "2025-02-01T15:20:33.072003Z",
     "shell.execute_reply.started": "2025-02-01T15:20:33.068385Z"
    },
    "trusted": true
   },
   "outputs": [],
   "source": [
    "# Function to add a random character to a word in Arabic text\n",
    "def add_random_arabic_character(word):\n",
    "    arabic_chars = \"ابتثجحخدذرزسشصضطظعغفقكلمنهوي\"\n",
    "    random_char = random.choice(arabic_chars)\n",
    "    return word + random_char\n",
    "\n",
    "# Function to remove a random character from a word in Arabic text\n",
    "def remove_random_arabic_character(word):\n",
    "    if len(word) <= 1:\n",
    "        return word  # If the word has only one character, return the same word\n",
    "    random_index = random.randint(0, len(word) - 1)  # Choose a random index\n",
    "    return word[:random_index] + word[random_index + 1:]  # Remove the character at the random index\n"
   ]
  },
  {
   "cell_type": "code",
   "execution_count": 14,
   "metadata": {
    "execution": {
     "iopub.execute_input": "2025-02-01T15:20:38.681255Z",
     "iopub.status.busy": "2025-02-01T15:20:38.680974Z",
     "iopub.status.idle": "2025-02-01T15:20:38.685918Z",
     "shell.execute_reply": "2025-02-01T15:20:38.684990Z",
     "shell.execute_reply.started": "2025-02-01T15:20:38.681232Z"
    },
    "trusted": true
   },
   "outputs": [],
   "source": [
    "def modify_text(text):\n",
    "    words = text.split()  # Split the text into words\n",
    "    if not words:\n",
    "        return \"\"  # Return empty string if there are no words\n",
    "    random_word = random.choice(words)  # Choose a random word\n",
    "    modify_choice = random.choice([\"add\", \"remove\"])  # Choose whether to add or remove a character\n",
    "    modified_words = []\n",
    "    for word in words:\n",
    "        if word == random_word:\n",
    "            if modify_choice == \"add\":\n",
    "                modified_words.append(add_random_arabic_character(word))\n",
    "            elif modify_choice == \"remove\":\n",
    "                modified_words.append(remove_random_arabic_character(word))\n",
    "        else:\n",
    "            modified_words.append(word)\n",
    "    return ' '.join(modified_words)  # Join the modified words back into a single string\n"
   ]
  },
  {
   "cell_type": "code",
   "execution_count": 15,
   "metadata": {
    "execution": {
     "iopub.execute_input": "2025-02-01T15:20:43.247906Z",
     "iopub.status.busy": "2025-02-01T15:20:43.247634Z",
     "iopub.status.idle": "2025-02-01T15:20:43.537667Z",
     "shell.execute_reply": "2025-02-01T15:20:43.536727Z",
     "shell.execute_reply.started": "2025-02-01T15:20:43.247886Z"
    },
    "trusted": true
   },
   "outputs": [],
   "source": [
    "df['new_incorrect'] = df['correct'].apply(modify_text)"
   ]
  },
  {
   "cell_type": "code",
   "execution_count": 16,
   "metadata": {
    "execution": {
     "iopub.execute_input": "2025-02-01T15:20:47.300046Z",
     "iopub.status.busy": "2025-02-01T15:20:47.299771Z",
     "iopub.status.idle": "2025-02-01T15:20:47.311017Z",
     "shell.execute_reply": "2025-02-01T15:20:47.310168Z",
     "shell.execute_reply.started": "2025-02-01T15:20:47.300025Z"
    },
    "trusted": true
   },
   "outputs": [
    {
     "data": {
      "text/html": [
       "<div>\n",
       "<style scoped>\n",
       "    .dataframe tbody tr th:only-of-type {\n",
       "        vertical-align: middle;\n",
       "    }\n",
       "\n",
       "    .dataframe tbody tr th {\n",
       "        vertical-align: top;\n",
       "    }\n",
       "\n",
       "    .dataframe thead th {\n",
       "        text-align: right;\n",
       "    }\n",
       "</style>\n",
       "<table border=\"1\" class=\"dataframe\">\n",
       "  <thead>\n",
       "    <tr style=\"text-align: right;\">\n",
       "      <th></th>\n",
       "      <th>correct</th>\n",
       "      <th>incorrect</th>\n",
       "      <th>word_count_correct</th>\n",
       "      <th>word_count_incorrect</th>\n",
       "      <th>stopwords_correct</th>\n",
       "      <th>stopwords_incorrect</th>\n",
       "      <th>emoji_count_correct</th>\n",
       "      <th>emoji_count_incorrect</th>\n",
       "      <th>new_incorrect</th>\n",
       "    </tr>\n",
       "  </thead>\n",
       "  <tbody>\n",
       "    <tr>\n",
       "      <th>0</th>\n",
       "      <td>سبحان الله ، الحكام العرب سيموت علي الكرسي ليظ...</td>\n",
       "      <td>سبحان الله الحكام العرب سيموت علي الكرسي ليضهر...</td>\n",
       "      <td>65</td>\n",
       "      <td>59</td>\n",
       "      <td>12</td>\n",
       "      <td>8</td>\n",
       "      <td>0</td>\n",
       "      <td>0</td>\n",
       "      <td>سبحان الله ، الحكام العرب سيموت علي الكرسي ليظ...</td>\n",
       "    </tr>\n",
       "    <tr>\n",
       "      <th>1</th>\n",
       "      <td>النصر ات لا محال ان شاء الله . من يءمن بالله و...</td>\n",
       "      <td>النصر ات لا محال انشاء الله من يءمن بالله والي...</td>\n",
       "      <td>54</td>\n",
       "      <td>45</td>\n",
       "      <td>10</td>\n",
       "      <td>10</td>\n",
       "      <td>0</td>\n",
       "      <td>0</td>\n",
       "      <td>النصر ات لا محال ان شاء الله . من يءمن بالله و...</td>\n",
       "    </tr>\n",
       "    <tr>\n",
       "      <th>2</th>\n",
       "      <td>الي كل شخص يعتقد ان بشار الاسد سوف يخرج من سور...</td>\n",
       "      <td>الي كل شخص يعتقد ان بشار الاسد سوف يخرج من سور...</td>\n",
       "      <td>66</td>\n",
       "      <td>57</td>\n",
       "      <td>7</td>\n",
       "      <td>7</td>\n",
       "      <td>0</td>\n",
       "      <td>0</td>\n",
       "      <td>الي كل شخص يعتقد ان بشار الاسد سوف يخرج من سور...</td>\n",
       "    </tr>\n",
       "    <tr>\n",
       "      <th>3</th>\n",
       "      <td>الاسد وعصابته - لحد الان - غير مستوعبين انه رح...</td>\n",
       "      <td>الاسد وعصابته لحد الان غير مستوعبين ان و رح ين...</td>\n",
       "      <td>70</td>\n",
       "      <td>62</td>\n",
       "      <td>10</td>\n",
       "      <td>10</td>\n",
       "      <td>0</td>\n",
       "      <td>0</td>\n",
       "      <td>الاسد وعصابته - لحد الان - غير مستوعبين انه رح...</td>\n",
       "    </tr>\n",
       "    <tr>\n",
       "      <th>4</th>\n",
       "      <td>النظام الاسدي تجاوز حتي ما فعله معمر القذافي ف...</td>\n",
       "      <td>النظام الاسدي تجاوز حتي ما فعله معمر القذافي ف...</td>\n",
       "      <td>66</td>\n",
       "      <td>64</td>\n",
       "      <td>11</td>\n",
       "      <td>11</td>\n",
       "      <td>0</td>\n",
       "      <td>0</td>\n",
       "      <td>النظام الاسدي تجاوز حتي ما فعله معمر القذافي ف...</td>\n",
       "    </tr>\n",
       "    <tr>\n",
       "      <th>5</th>\n",
       "      <td>سوريا ام للسوريين ، او لبشار وعصابته ؟ لن تنته...</td>\n",
       "      <td>سوريا اما للسوريين او لبشار وعصابته لن تنتهي ه...</td>\n",
       "      <td>62</td>\n",
       "      <td>52</td>\n",
       "      <td>8</td>\n",
       "      <td>8</td>\n",
       "      <td>0</td>\n",
       "      <td>0</td>\n",
       "      <td>سوريا ام للسوريين ، او لبشار وعصابته ؟ لن تنته...</td>\n",
       "    </tr>\n",
       "    <tr>\n",
       "      <th>6</th>\n",
       "      <td>التاريخ يعيد نفسه . الاخوان المجرمون يقتلون وي...</td>\n",
       "      <td>التاريخ يعيد نفسه . الاخوان المجرمون يقتلون و ...</td>\n",
       "      <td>50</td>\n",
       "      <td>49</td>\n",
       "      <td>4</td>\n",
       "      <td>9</td>\n",
       "      <td>0</td>\n",
       "      <td>0</td>\n",
       "      <td>التاريخ يعيد نفسه . الاخوان المجرمون يقتلون وي...</td>\n",
       "    </tr>\n",
       "    <tr>\n",
       "      <th>7</th>\n",
       "      <td>عار عليكم يا امه الاسلام لعدم مساعدتكم لنا ، ن...</td>\n",
       "      <td>عار عليكم يا امه الاسلام لعدم مساعدتكم لنا نحن...</td>\n",
       "      <td>53</td>\n",
       "      <td>52</td>\n",
       "      <td>10</td>\n",
       "      <td>14</td>\n",
       "      <td>0</td>\n",
       "      <td>0</td>\n",
       "      <td>عار عليكم يا امه الاسلام لعدم مساعدتكم لنا ، ن...</td>\n",
       "    </tr>\n",
       "    <tr>\n",
       "      <th>8</th>\n",
       "      <td>تنويه : عقرب هي قريه تقع في سهل الحوله ، وتتبع...</td>\n",
       "      <td>تنويه : عقرب هي قريه تقع في سهل الحوله وتتبع ا...</td>\n",
       "      <td>49</td>\n",
       "      <td>45</td>\n",
       "      <td>7</td>\n",
       "      <td>9</td>\n",
       "      <td>0</td>\n",
       "      <td>0</td>\n",
       "      <td>تنويه : عقرب هي قريه تقع في سهل الحوله ، وتتبع...</td>\n",
       "    </tr>\n",
       "    <tr>\n",
       "      <th>9</th>\n",
       "      <td>ضحكوا علينا بحرب العراق عام 1990 ، وعام 2003 ،...</td>\n",
       "      <td>ضحكو علينا بحرب العراق عام ١٩٩٠ وعام ٢٠٠٣ وحرب...</td>\n",
       "      <td>56</td>\n",
       "      <td>50</td>\n",
       "      <td>1</td>\n",
       "      <td>2</td>\n",
       "      <td>0</td>\n",
       "      <td>0</td>\n",
       "      <td>ضحكوا علينا بحرب العراق عام 1990 ، وعام 2003 ،...</td>\n",
       "    </tr>\n",
       "  </tbody>\n",
       "</table>\n",
       "</div>"
      ],
      "text/plain": [
       "                                             correct  \\\n",
       "0  سبحان الله ، الحكام العرب سيموت علي الكرسي ليظ...   \n",
       "1  النصر ات لا محال ان شاء الله . من يءمن بالله و...   \n",
       "2  الي كل شخص يعتقد ان بشار الاسد سوف يخرج من سور...   \n",
       "3  الاسد وعصابته - لحد الان - غير مستوعبين انه رح...   \n",
       "4  النظام الاسدي تجاوز حتي ما فعله معمر القذافي ف...   \n",
       "5  سوريا ام للسوريين ، او لبشار وعصابته ؟ لن تنته...   \n",
       "6  التاريخ يعيد نفسه . الاخوان المجرمون يقتلون وي...   \n",
       "7  عار عليكم يا امه الاسلام لعدم مساعدتكم لنا ، ن...   \n",
       "8  تنويه : عقرب هي قريه تقع في سهل الحوله ، وتتبع...   \n",
       "9  ضحكوا علينا بحرب العراق عام 1990 ، وعام 2003 ،...   \n",
       "\n",
       "                                           incorrect  word_count_correct  \\\n",
       "0  سبحان الله الحكام العرب سيموت علي الكرسي ليضهر...                  65   \n",
       "1  النصر ات لا محال انشاء الله من يءمن بالله والي...                  54   \n",
       "2  الي كل شخص يعتقد ان بشار الاسد سوف يخرج من سور...                  66   \n",
       "3  الاسد وعصابته لحد الان غير مستوعبين ان و رح ين...                  70   \n",
       "4  النظام الاسدي تجاوز حتي ما فعله معمر القذافي ف...                  66   \n",
       "5  سوريا اما للسوريين او لبشار وعصابته لن تنتهي ه...                  62   \n",
       "6  التاريخ يعيد نفسه . الاخوان المجرمون يقتلون و ...                  50   \n",
       "7  عار عليكم يا امه الاسلام لعدم مساعدتكم لنا نحن...                  53   \n",
       "8  تنويه : عقرب هي قريه تقع في سهل الحوله وتتبع ا...                  49   \n",
       "9  ضحكو علينا بحرب العراق عام ١٩٩٠ وعام ٢٠٠٣ وحرب...                  56   \n",
       "\n",
       "   word_count_incorrect  stopwords_correct  stopwords_incorrect  \\\n",
       "0                    59                 12                    8   \n",
       "1                    45                 10                   10   \n",
       "2                    57                  7                    7   \n",
       "3                    62                 10                   10   \n",
       "4                    64                 11                   11   \n",
       "5                    52                  8                    8   \n",
       "6                    49                  4                    9   \n",
       "7                    52                 10                   14   \n",
       "8                    45                  7                    9   \n",
       "9                    50                  1                    2   \n",
       "\n",
       "   emoji_count_correct  emoji_count_incorrect  \\\n",
       "0                    0                      0   \n",
       "1                    0                      0   \n",
       "2                    0                      0   \n",
       "3                    0                      0   \n",
       "4                    0                      0   \n",
       "5                    0                      0   \n",
       "6                    0                      0   \n",
       "7                    0                      0   \n",
       "8                    0                      0   \n",
       "9                    0                      0   \n",
       "\n",
       "                                       new_incorrect  \n",
       "0  سبحان الله ، الحكام العرب سيموت علي الكرسي ليظ...  \n",
       "1  النصر ات لا محال ان شاء الله . من يءمن بالله و...  \n",
       "2  الي كل شخص يعتقد ان بشار الاسد سوف يخرج من سور...  \n",
       "3  الاسد وعصابته - لحد الان - غير مستوعبين انه رح...  \n",
       "4  النظام الاسدي تجاوز حتي ما فعله معمر القذافي ف...  \n",
       "5  سوريا ام للسوريين ، او لبشار وعصابته ؟ لن تنته...  \n",
       "6  التاريخ يعيد نفسه . الاخوان المجرمون يقتلون وي...  \n",
       "7  عار عليكم يا امه الاسلام لعدم مساعدتكم لنا ، ن...  \n",
       "8  تنويه : عقرب هي قريه تقع في سهل الحوله ، وتتبع...  \n",
       "9  ضحكوا علينا بحرب العراق عام 1990 ، وعام 2003 ،...  "
      ]
     },
     "execution_count": 16,
     "metadata": {},
     "output_type": "execute_result"
    }
   ],
   "source": [
    "df.head(10)"
   ]
  },
  {
   "cell_type": "code",
   "execution_count": 17,
   "metadata": {
    "execution": {
     "iopub.execute_input": "2025-02-01T15:20:52.244931Z",
     "iopub.status.busy": "2025-02-01T15:20:52.244608Z",
     "iopub.status.idle": "2025-02-01T15:20:52.249949Z",
     "shell.execute_reply": "2025-02-01T15:20:52.249290Z",
     "shell.execute_reply.started": "2025-02-01T15:20:52.244904Z"
    },
    "trusted": true
   },
   "outputs": [
    {
     "data": {
      "text/plain": [
       "'الاسد وعصابته لحد الان غير مستوعبين ان و رح ينقلعوا من فوق رقاب الشعب السوري . . . يعني لس ع راكبه براسون انو هالشعب قطيع غنم مابيحل ولا بيربط ونهايتو الدبح ! تماما كالقذافي ومن اثر الصدمه بدات التصر فات العنيفه بالقتل والاعتقال والتعذيب . . اعتقد بان الكثيرين سوف لن يفيقوا من الصدمه ابدا لانهم سيلحقوا بشهاءنا باذن الرب .'"
      ]
     },
     "execution_count": 17,
     "metadata": {},
     "output_type": "execute_result"
    }
   ],
   "source": [
    "df.iloc[3][1]"
   ]
  },
  {
   "cell_type": "markdown",
   "metadata": {},
   "source": [
    "# now we will select the column that we need for model"
   ]
  },
  {
   "cell_type": "code",
   "execution_count": 18,
   "metadata": {
    "execution": {
     "iopub.execute_input": "2025-02-01T15:21:04.730383Z",
     "iopub.status.busy": "2025-02-01T15:21:04.730063Z",
     "iopub.status.idle": "2025-02-01T15:21:04.739386Z",
     "shell.execute_reply": "2025-02-01T15:21:04.738674Z",
     "shell.execute_reply.started": "2025-02-01T15:21:04.730353Z"
    },
    "trusted": true
   },
   "outputs": [
    {
     "name": "stdout",
     "output_type": "stream",
     "text": [
      "سوريا ام للسوريين ، او لبشار وعصابته ؟ لن تنتهي هذه الثوره الا بان تبقي سوريا حره ، ليس فيها مكان لقتله الاطفال والنساء ، الشعب السوري لن يرضي ان يحكمه خاءن قتل ابناء سوريا . لو استمرت الثوره للاجيال القادمه ، لن يخذل الشهداء ، وسوف تنتصر الثوره ، وستجر اذيال الخيبه عصابه الطغيان . الله معكم يا احرار سوريا .  \n",
      "\n",
      " سوريا ام للسوريين ، او لبشار وعصابته ؟ لن تنتهي هذه الثوره الا بان تبقي سوريا حره ، ليس فيها مكان لقتله الاطفال والنساء ، الشعب السوري لن يرضي ان يحكمه خاءن قتل ابناء سوريا . لو استمرت الثوره للاجيال القادمه ، لن يخذل الشهداء ، وسوف تنتصر الثوره ، وستجر اذيال الخيبه عصابه الطغيان . الل معكم يا احرار سوريا .\n"
     ]
    }
   ],
   "source": [
    "df=df[[\"correct\",\"new_incorrect\"]]\n",
    "print(df.iloc[5][0],' \\n\\n',df.iloc[5][-1])"
   ]
  },
  {
   "cell_type": "markdown",
   "metadata": {},
   "source": [
    "# Removing Punctuations"
   ]
  },
  {
   "cell_type": "code",
   "execution_count": 19,
   "metadata": {
    "execution": {
     "iopub.execute_input": "2025-02-01T15:21:17.442523Z",
     "iopub.status.busy": "2025-02-01T15:21:17.442218Z",
     "iopub.status.idle": "2025-02-01T15:21:25.436247Z",
     "shell.execute_reply": "2025-02-01T15:21:25.435404Z",
     "shell.execute_reply.started": "2025-02-01T15:21:17.442499Z"
    },
    "trusted": true
   },
   "outputs": [
    {
     "data": {
      "text/html": [
       "<div>\n",
       "<style scoped>\n",
       "    .dataframe tbody tr th:only-of-type {\n",
       "        vertical-align: middle;\n",
       "    }\n",
       "\n",
       "    .dataframe tbody tr th {\n",
       "        vertical-align: top;\n",
       "    }\n",
       "\n",
       "    .dataframe thead th {\n",
       "        text-align: right;\n",
       "    }\n",
       "</style>\n",
       "<table border=\"1\" class=\"dataframe\">\n",
       "  <thead>\n",
       "    <tr style=\"text-align: right;\">\n",
       "      <th></th>\n",
       "      <th>correct</th>\n",
       "      <th>new_incorrect</th>\n",
       "    </tr>\n",
       "  </thead>\n",
       "  <tbody>\n",
       "    <tr>\n",
       "      <th>4850</th>\n",
       "      <td>محمد علي عقيل وناءل الدخيل هم من مءيدين الرءيس...</td>\n",
       "      <td>محمد علي عقيل وناءل الدخيل هم من مءيدين الرءيس...</td>\n",
       "    </tr>\n",
       "    <tr>\n",
       "      <th>1331</th>\n",
       "      <td>جاء رسول قيصر الي سيدنا عمر بن الخطاب  فوجده ن...</td>\n",
       "      <td>جاء رسول قيصر الي سيدنا عمر بن الخطاب  فوجده ن...</td>\n",
       "    </tr>\n",
       "    <tr>\n",
       "      <th>1565</th>\n",
       "      <td>اللهم اغفر جميع من استشهد في هذه العمليه الجبا...</td>\n",
       "      <td>اللهم اغفر جميع من استشهد في هذه العمليه الجبا...</td>\n",
       "    </tr>\n",
       "    <tr>\n",
       "      <th>17159</th>\n",
       "      <td>لقد تعبنا من الدراسات التي تاره تنفي وتاره توك...</td>\n",
       "      <td>لقد تعبنا من الدراسات اتي تاره تنفي وتاره توكد...</td>\n",
       "    </tr>\n",
       "    <tr>\n",
       "      <th>6287</th>\n",
       "      <td>لا لدستور ملكي  نعم لدستور من الشعب الي الشعب ...</td>\n",
       "      <td>ا لدستور ملكي  نعم لدستور من الشعب الي الشعب  ...</td>\n",
       "    </tr>\n",
       "  </tbody>\n",
       "</table>\n",
       "</div>"
      ],
      "text/plain": [
       "                                                 correct  \\\n",
       "4850   محمد علي عقيل وناءل الدخيل هم من مءيدين الرءيس...   \n",
       "1331   جاء رسول قيصر الي سيدنا عمر بن الخطاب  فوجده ن...   \n",
       "1565   اللهم اغفر جميع من استشهد في هذه العمليه الجبا...   \n",
       "17159  لقد تعبنا من الدراسات التي تاره تنفي وتاره توك...   \n",
       "6287   لا لدستور ملكي  نعم لدستور من الشعب الي الشعب ...   \n",
       "\n",
       "                                           new_incorrect  \n",
       "4850   محمد علي عقيل وناءل الدخيل هم من مءيدين الرءيس...  \n",
       "1331   جاء رسول قيصر الي سيدنا عمر بن الخطاب  فوجده ن...  \n",
       "1565   اللهم اغفر جميع من استشهد في هذه العمليه الجبا...  \n",
       "17159  لقد تعبنا من الدراسات اتي تاره تنفي وتاره توكد...  \n",
       "6287   ا لدستور ملكي  نعم لدستور من الشعب الي الشعب  ...  "
      ]
     },
     "execution_count": 19,
     "metadata": {},
     "output_type": "execute_result"
    }
   ],
   "source": [
    "arabicPunctuations = [\".\",\"#\",\"$\",\"//\",\"?\",\"=\",\"'\",\"_\",\"-\",\"'\",\";\",\"\\\\\",\"`\",\"؛\",\"<\",\">\",\"(\",\")\",\"*\",\"&\",\"^\",\"%\",\"]\",\"[\",\",\",\"ـ\",\"،\",\"/\",\":\",\"؟\",\".\",\"'\",\"{\",\"}\",\"~\",\"|\",\"!\",\"”\",\"…\",\"“\",\"–\"] # defining customized punctuation marks\n",
    "englishPunctuations = string.punctuation # importing English punctuation marks\n",
    "englishPunctuations = [word.strip() for word in englishPunctuations] # converting the English punctuation from a string to array for processing\n",
    "punctuationsList = arabicPunctuations + englishPunctuations # creating a list of all punctuation marks\n",
    "\n",
    "def removingPunctuation(text):\n",
    "  cleanTweet = ''\n",
    "  for i in text:\n",
    "    if i not in arabicPunctuations:\n",
    "      cleanTweet = cleanTweet + '' + i\n",
    "  return cleanTweet\n",
    "\n",
    "df['correct'] = df['correct'].apply(lambda x: removingPunctuation(x))\n",
    "df['new_incorrect'] = df['new_incorrect'].apply(lambda x: removingPunctuation(x))\n",
    "\n",
    "\n",
    "df.sample(5)"
   ]
  },
  {
   "cell_type": "code",
   "execution_count": 20,
   "metadata": {
    "execution": {
     "iopub.execute_input": "2025-02-01T15:21:25.437706Z",
     "iopub.status.busy": "2025-02-01T15:21:25.437389Z",
     "iopub.status.idle": "2025-02-01T15:21:27.585204Z",
     "shell.execute_reply": "2025-02-01T15:21:27.584575Z",
     "shell.execute_reply.started": "2025-02-01T15:21:25.437675Z"
    },
    "trusted": true
   },
   "outputs": [],
   "source": [
    "def clean(text):\n",
    "    # Remove extra whitespace\n",
    "    text = re.sub('\\s+', ' ', text)\n",
    "    # Remove numbers\n",
    "    text = re.sub(\"\\d+\", \" \", text)\n",
    "    return text\n",
    "\n",
    "df['correct'] = df['correct'].apply(lambda x:clean(x))\n",
    "df['correct'] = df['correct'].apply(lambda x:clean(x))\n",
    "\n",
    "df['new_incorrect'] = df['new_incorrect'].apply(lambda x:clean(x))\n",
    "df['new_incorrect'] = df['new_incorrect'].apply(lambda x:clean(x))"
   ]
  },
  {
   "cell_type": "code",
   "execution_count": 21,
   "metadata": {
    "execution": {
     "iopub.execute_input": "2025-02-01T15:21:28.940698Z",
     "iopub.status.busy": "2025-02-01T15:21:28.940375Z",
     "iopub.status.idle": "2025-02-01T15:21:28.949370Z",
     "shell.execute_reply": "2025-02-01T15:21:28.948501Z",
     "shell.execute_reply.started": "2025-02-01T15:21:28.940674Z"
    },
    "trusted": true
   },
   "outputs": [
    {
     "data": {
      "text/html": [
       "<div>\n",
       "<style scoped>\n",
       "    .dataframe tbody tr th:only-of-type {\n",
       "        vertical-align: middle;\n",
       "    }\n",
       "\n",
       "    .dataframe tbody tr th {\n",
       "        vertical-align: top;\n",
       "    }\n",
       "\n",
       "    .dataframe thead th {\n",
       "        text-align: right;\n",
       "    }\n",
       "</style>\n",
       "<table border=\"1\" class=\"dataframe\">\n",
       "  <thead>\n",
       "    <tr style=\"text-align: right;\">\n",
       "      <th></th>\n",
       "      <th>correct</th>\n",
       "      <th>new_incorrect</th>\n",
       "    </tr>\n",
       "  </thead>\n",
       "  <tbody>\n",
       "    <tr>\n",
       "      <th>0</th>\n",
       "      <td>سبحان الله الحكام العرب سيموت علي الكرسي ليظهر...</td>\n",
       "      <td>سبحان الله الحكام العرب سيموت علي الكرسي ليظهر...</td>\n",
       "    </tr>\n",
       "    <tr>\n",
       "      <th>1</th>\n",
       "      <td>النصر ات لا محال ان شاء الله من يءمن بالله وال...</td>\n",
       "      <td>النصر ات لا محال ان شاء الله من يءمن بالله وال...</td>\n",
       "    </tr>\n",
       "    <tr>\n",
       "      <th>2</th>\n",
       "      <td>الي كل شخص يعتقد ان بشار الاسد سوف يخرج من سور...</td>\n",
       "      <td>الي كل شخص يعتقد ان بشار الاسد سوف يخرج من سور...</td>\n",
       "    </tr>\n",
       "    <tr>\n",
       "      <th>3</th>\n",
       "      <td>الاسد وعصابته لحد الان غير مستوعبين انه رح ينق...</td>\n",
       "      <td>الاسد وعصابته لحد الان غير مستوعبين انه رح ينق...</td>\n",
       "    </tr>\n",
       "    <tr>\n",
       "      <th>4</th>\n",
       "      <td>النظام الاسدي تجاوز حتي ما فعله معمر القذافي ف...</td>\n",
       "      <td>النظام الاسدي تجاوز حتي ما فعله معمر القذافي ف...</td>\n",
       "    </tr>\n",
       "    <tr>\n",
       "      <th>...</th>\n",
       "      <td>...</td>\n",
       "      <td>...</td>\n",
       "    </tr>\n",
       "    <tr>\n",
       "      <th>2288</th>\n",
       "      <td>اعتقد ان اي مسلم من المستحيل ان يفعل هذا سواء ...</td>\n",
       "      <td>اعتقد ان اي مسلم من المستحيل ان يفعل هذا سواء ...</td>\n",
       "    </tr>\n",
       "    <tr>\n",
       "      <th>2289</th>\n",
       "      <td>وهو يصلح جدران بيته ويصبغها وحينما يستعصي علي...</td>\n",
       "      <td>وهو يصلح جدران بيته ويصبغها وحينما يستعصي علي...</td>\n",
       "    </tr>\n",
       "    <tr>\n",
       "      <th>2290</th>\n",
       "      <td>انا استغرب ممن ينكر علي الجزيره ويصفها باثاره ...</td>\n",
       "      <td>انا استغرب ممن ينكر علي الجزيره ويصفها باثاره ...</td>\n",
       "    </tr>\n",
       "    <tr>\n",
       "      <th>2291</th>\n",
       "      <td>تصرف طبيعي اي انسان في امريكا يتعرض بالنقد للي...</td>\n",
       "      <td>تصرف طبيعي اي انسان في امريكا يتعرض بالنقد للي...</td>\n",
       "    </tr>\n",
       "    <tr>\n",
       "      <th>2292</th>\n",
       "      <td>اسراءيل سوف لن تنهار بهذه السهوله الا اذا تاكل...</td>\n",
       "      <td>اسراءيل سوف لن تنهار بهذه السهوله الا اذا تاكل...</td>\n",
       "    </tr>\n",
       "  </tbody>\n",
       "</table>\n",
       "<p>20643 rows × 2 columns</p>\n",
       "</div>"
      ],
      "text/plain": [
       "                                                correct  \\\n",
       "0     سبحان الله الحكام العرب سيموت علي الكرسي ليظهر...   \n",
       "1     النصر ات لا محال ان شاء الله من يءمن بالله وال...   \n",
       "2     الي كل شخص يعتقد ان بشار الاسد سوف يخرج من سور...   \n",
       "3     الاسد وعصابته لحد الان غير مستوعبين انه رح ينق...   \n",
       "4     النظام الاسدي تجاوز حتي ما فعله معمر القذافي ف...   \n",
       "...                                                 ...   \n",
       "2288  اعتقد ان اي مسلم من المستحيل ان يفعل هذا سواء ...   \n",
       "2289   وهو يصلح جدران بيته ويصبغها وحينما يستعصي علي...   \n",
       "2290  انا استغرب ممن ينكر علي الجزيره ويصفها باثاره ...   \n",
       "2291  تصرف طبيعي اي انسان في امريكا يتعرض بالنقد للي...   \n",
       "2292  اسراءيل سوف لن تنهار بهذه السهوله الا اذا تاكل...   \n",
       "\n",
       "                                          new_incorrect  \n",
       "0     سبحان الله الحكام العرب سيموت علي الكرسي ليظهر...  \n",
       "1     النصر ات لا محال ان شاء الله من يءمن بالله وال...  \n",
       "2     الي كل شخص يعتقد ان بشار الاسد سوف يخرج من سور...  \n",
       "3     الاسد وعصابته لحد الان غير مستوعبين انه رح ينق...  \n",
       "4     النظام الاسدي تجاوز حتي ما فعله معمر القذافي ف...  \n",
       "...                                                 ...  \n",
       "2288  اعتقد ان اي مسلم من المستحيل ان يفعل هذا سواء ...  \n",
       "2289   وهو يصلح جدران بيته ويصبغها وحينما يستعصي علي...  \n",
       "2290  انا استغرب ممن ينكر علي الجزيره ويصفها باثاره ...  \n",
       "2291  تصرف طبيعي اي انسان في امريكا يتعرض بالنقد للي...  \n",
       "2292  اسراءيل سوف لن تنهار بهذه السهوله الا اذا تاكل...  \n",
       "\n",
       "[20643 rows x 2 columns]"
      ]
     },
     "execution_count": 21,
     "metadata": {},
     "output_type": "execute_result"
    }
   ],
   "source": [
    "df"
   ]
  },
  {
   "cell_type": "code",
   "execution_count": 22,
   "metadata": {
    "execution": {
     "iopub.execute_input": "2025-02-01T15:21:33.495097Z",
     "iopub.status.busy": "2025-02-01T15:21:33.494786Z",
     "iopub.status.idle": "2025-02-01T15:21:33.503499Z",
     "shell.execute_reply": "2025-02-01T15:21:33.502686Z",
     "shell.execute_reply.started": "2025-02-01T15:21:33.495068Z"
    },
    "trusted": true
   },
   "outputs": [
    {
     "data": {
      "text/html": [
       "<div>\n",
       "<style scoped>\n",
       "    .dataframe tbody tr th:only-of-type {\n",
       "        vertical-align: middle;\n",
       "    }\n",
       "\n",
       "    .dataframe tbody tr th {\n",
       "        vertical-align: top;\n",
       "    }\n",
       "\n",
       "    .dataframe thead th {\n",
       "        text-align: right;\n",
       "    }\n",
       "</style>\n",
       "<table border=\"1\" class=\"dataframe\">\n",
       "  <thead>\n",
       "    <tr style=\"text-align: right;\">\n",
       "      <th></th>\n",
       "      <th>correct</th>\n",
       "      <th>new_incorrect</th>\n",
       "    </tr>\n",
       "  </thead>\n",
       "  <tbody>\n",
       "    <tr>\n",
       "      <th>14549</th>\n",
       "      <td>انا لست مع الحكومه المصريه في كثير مما تفعل لك...</td>\n",
       "      <td>انا لست مع الحكومه المصريه في كثير مما تفعل كن...</td>\n",
       "    </tr>\n",
       "    <tr>\n",
       "      <th>2109</th>\n",
       "      <td>المشكله اين الملايين تتفرج علي الكره ام علي مر...</td>\n",
       "      <td>المشكله اين الملايين تتفرج علي الكره ام علي مر...</td>\n",
       "    </tr>\n",
       "    <tr>\n",
       "      <th>10688</th>\n",
       "      <td>قال الله تعالي \" وما كيد الظالمين الا في ضلال ...</td>\n",
       "      <td>قال اله تعالي \" وما كيد الظالمين الا في ضلال \"...</td>\n",
       "    </tr>\n",
       "    <tr>\n",
       "      <th>3408</th>\n",
       "      <td>الي الاضراب الي الاضراب يا احفاد العرب الامجاد...</td>\n",
       "      <td>الي الاضراب الي الاضراب يا احفاد العرب الامجاد...</td>\n",
       "    </tr>\n",
       "    <tr>\n",
       "      <th>1170</th>\n",
       "      <td>يا شعوب العالم عليكم بالاسلام يا شباب العالم ع...</td>\n",
       "      <td>يا شعوب العالم عليكم بالاسلام يا شباب العالم ع...</td>\n",
       "    </tr>\n",
       "    <tr>\n",
       "      <th>15451</th>\n",
       "      <td>طالما بشار ونظامه من منعوا التحقيق فهو بالتاكي...</td>\n",
       "      <td>طالما بشار ونظامه من منعوا التحقيق فهو بالتاكي...</td>\n",
       "    </tr>\n",
       "    <tr>\n",
       "      <th>798</th>\n",
       "      <td>شكرا للجزيره منبر من لا منبر له علي تغطيتها ال...</td>\n",
       "      <td>شكرا للجزيره منبر من لا منبر له علي تغطيتها ال...</td>\n",
       "    </tr>\n",
       "    <tr>\n",
       "      <th>18284</th>\n",
       "      <td>ايها الجهال يا ايها العملاء اتقتلون النفس التي...</td>\n",
       "      <td>ايها الجهال يا ايها العملاء اتقتلون النفس التي...</td>\n",
       "    </tr>\n",
       "    <tr>\n",
       "      <th>13220</th>\n",
       "      <td>ان الاسلام المرضي من امريكا هو الاسلام الشيعي ...</td>\n",
       "      <td>ان الاسلام المرضي من امريكا هو الاسلام الشيعي ...</td>\n",
       "    </tr>\n",
       "    <tr>\n",
       "      <th>18106</th>\n",
       "      <td>تجريب المجرب خطا مرتين اعتقد هذا تصرف غبي من ن...</td>\n",
       "      <td>تجريب المجرب خطا مرتين اعتقد هذا تصرف غبي من ن...</td>\n",
       "    </tr>\n",
       "  </tbody>\n",
       "</table>\n",
       "</div>"
      ],
      "text/plain": [
       "                                                 correct  \\\n",
       "14549  انا لست مع الحكومه المصريه في كثير مما تفعل لك...   \n",
       "2109   المشكله اين الملايين تتفرج علي الكره ام علي مر...   \n",
       "10688  قال الله تعالي \" وما كيد الظالمين الا في ضلال ...   \n",
       "3408   الي الاضراب الي الاضراب يا احفاد العرب الامجاد...   \n",
       "1170   يا شعوب العالم عليكم بالاسلام يا شباب العالم ع...   \n",
       "15451  طالما بشار ونظامه من منعوا التحقيق فهو بالتاكي...   \n",
       "798    شكرا للجزيره منبر من لا منبر له علي تغطيتها ال...   \n",
       "18284  ايها الجهال يا ايها العملاء اتقتلون النفس التي...   \n",
       "13220  ان الاسلام المرضي من امريكا هو الاسلام الشيعي ...   \n",
       "18106  تجريب المجرب خطا مرتين اعتقد هذا تصرف غبي من ن...   \n",
       "\n",
       "                                           new_incorrect  \n",
       "14549  انا لست مع الحكومه المصريه في كثير مما تفعل كن...  \n",
       "2109   المشكله اين الملايين تتفرج علي الكره ام علي مر...  \n",
       "10688  قال اله تعالي \" وما كيد الظالمين الا في ضلال \"...  \n",
       "3408   الي الاضراب الي الاضراب يا احفاد العرب الامجاد...  \n",
       "1170   يا شعوب العالم عليكم بالاسلام يا شباب العالم ع...  \n",
       "15451  طالما بشار ونظامه من منعوا التحقيق فهو بالتاكي...  \n",
       "798    شكرا للجزيره منبر من لا منبر له علي تغطيتها ال...  \n",
       "18284  ايها الجهال يا ايها العملاء اتقتلون النفس التي...  \n",
       "13220  ان الاسلام المرضي من امريكا هو الاسلام الشيعي ...  \n",
       "18106  تجريب المجرب خطا مرتين اعتقد هذا تصرف غبي من ن...  "
      ]
     },
     "execution_count": 22,
     "metadata": {},
     "output_type": "execute_result"
    }
   ],
   "source": [
    "df.sample(10)"
   ]
  },
  {
   "cell_type": "markdown",
   "metadata": {},
   "source": [
    "# Tokenize the text data"
   ]
  },
  {
   "cell_type": "code",
   "execution_count": 23,
   "metadata": {
    "execution": {
     "iopub.execute_input": "2025-02-01T15:21:45.644967Z",
     "iopub.status.busy": "2025-02-01T15:21:45.644654Z",
     "iopub.status.idle": "2025-02-01T15:21:47.121450Z",
     "shell.execute_reply": "2025-02-01T15:21:47.120544Z",
     "shell.execute_reply.started": "2025-02-01T15:21:45.644940Z"
    },
    "trusted": true
   },
   "outputs": [],
   "source": [
    "tokenizer = tf.keras.preprocessing.text.Tokenizer(char_level=False)\n",
    "tokenizer.fit_on_texts(df['correct'])"
   ]
  },
  {
   "cell_type": "markdown",
   "metadata": {},
   "source": [
    "# Convert text data to sequences of integers"
   ]
  },
  {
   "cell_type": "code",
   "execution_count": 24,
   "metadata": {
    "execution": {
     "iopub.execute_input": "2025-02-01T15:21:58.956152Z",
     "iopub.status.busy": "2025-02-01T15:21:58.955837Z",
     "iopub.status.idle": "2025-02-01T15:22:00.937731Z",
     "shell.execute_reply": "2025-02-01T15:22:00.937079Z",
     "shell.execute_reply.started": "2025-02-01T15:21:58.956125Z"
    },
    "trusted": true
   },
   "outputs": [],
   "source": [
    "correct_sequences = tokenizer.texts_to_sequences(df['correct'])\n",
    "incorrect_sequences = tokenizer.texts_to_sequences(df['new_incorrect'])"
   ]
  },
  {
   "cell_type": "code",
   "execution_count": 25,
   "metadata": {
    "execution": {
     "iopub.execute_input": "2025-02-01T15:22:03.075047Z",
     "iopub.status.busy": "2025-02-01T15:22:03.074763Z",
     "iopub.status.idle": "2025-02-01T15:22:03.297983Z",
     "shell.execute_reply": "2025-02-01T15:22:03.297073Z",
     "shell.execute_reply.started": "2025-02-01T15:22:03.075026Z"
    },
    "trusted": true
   },
   "outputs": [],
   "source": [
    "# Set the maximum sequence length\n",
    "max_sequence_length = max(max(len(seq) for seq in correct_sequences), max(len(seq) for seq in incorrect_sequences))\n",
    "\n",
    "# Pad sequences to ensure uniform length\n",
    "correct_sequences = pad_sequences(correct_sequences, maxlen=max_sequence_length, padding='post')\n",
    "incorrect_sequences = pad_sequences(incorrect_sequences, maxlen=max_sequence_length, padding='post')"
   ]
  },
  {
   "cell_type": "code",
   "execution_count": 26,
   "metadata": {
    "execution": {
     "iopub.execute_input": "2025-02-01T15:22:07.398218Z",
     "iopub.status.busy": "2025-02-01T15:22:07.397942Z",
     "iopub.status.idle": "2025-02-01T15:22:07.402924Z",
     "shell.execute_reply": "2025-02-01T15:22:07.402265Z",
     "shell.execute_reply.started": "2025-02-01T15:22:07.398197Z"
    },
    "trusted": true
   },
   "outputs": [
    {
     "data": {
      "text/plain": [
       "100874"
      ]
     },
     "execution_count": 26,
     "metadata": {},
     "output_type": "execute_result"
    }
   ],
   "source": [
    "len(tokenizer.word_index)"
   ]
  },
  {
   "cell_type": "code",
   "execution_count": 27,
   "metadata": {
    "execution": {
     "iopub.execute_input": "2025-02-01T15:22:11.986386Z",
     "iopub.status.busy": "2025-02-01T15:22:11.986048Z",
     "iopub.status.idle": "2025-02-01T15:22:12.017933Z",
     "shell.execute_reply": "2025-02-01T15:22:12.016995Z",
     "shell.execute_reply.started": "2025-02-01T15:22:11.986356Z"
    },
    "trusted": true
   },
   "outputs": [],
   "source": [
    "# Split the data into training and validation sets\n",
    "X_train, X_val, y_train, y_val = train_test_split(incorrect_sequences, correct_sequences, test_size=0.2, random_state=42)"
   ]
  },
  {
   "cell_type": "markdown",
   "metadata": {},
   "source": [
    "# Model"
   ]
  },
  {
   "cell_type": "code",
   "execution_count": 28,
   "metadata": {
    "execution": {
     "iopub.execute_input": "2025-02-01T15:22:31.204439Z",
     "iopub.status.busy": "2025-02-01T15:22:31.204139Z",
     "iopub.status.idle": "2025-02-01T15:22:33.253885Z",
     "shell.execute_reply": "2025-02-01T15:22:33.253214Z",
     "shell.execute_reply.started": "2025-02-01T15:22:31.204416Z"
    },
    "trusted": true
   },
   "outputs": [],
   "source": [
    "# Model architecture\n",
    "input_seq = Input(shape=(max_sequence_length,))\n",
    "embedding_layer = Embedding(input_dim=len(tokenizer.word_index) + 1, output_dim=128)(input_seq)\n",
    "encoder = LSTM(128, return_sequences=True)(embedding_layer)\n",
    "decoder = Dense(len(tokenizer.word_index) + 1, activation='softmax')(encoder)\n",
    "\n",
    "# Define the model\n",
    "model = Model(input_seq, decoder)\n",
    "\n",
    "# Compile the model\n",
    "model.compile(optimizer=Adam(), loss='sparse_categorical_crossentropy', metrics=['accuracy'])"
   ]
  },
  {
   "cell_type": "code",
   "execution_count": 29,
   "metadata": {
    "execution": {
     "iopub.execute_input": "2025-02-01T15:22:36.335491Z",
     "iopub.status.busy": "2025-02-01T15:22:36.335157Z",
     "iopub.status.idle": "2025-02-01T15:22:36.350783Z",
     "shell.execute_reply": "2025-02-01T15:22:36.349955Z",
     "shell.execute_reply.started": "2025-02-01T15:22:36.335462Z"
    },
    "trusted": true
   },
   "outputs": [
    {
     "data": {
      "text/html": [
       "<pre style=\"white-space:pre;overflow-x:auto;line-height:normal;font-family:Menlo,'DejaVu Sans Mono',consolas,'Courier New',monospace\"><span style=\"font-weight: bold\">Model: \"functional\"</span>\n",
       "</pre>\n"
      ],
      "text/plain": [
       "\u001b[1mModel: \"functional\"\u001b[0m\n"
      ]
     },
     "metadata": {},
     "output_type": "display_data"
    },
    {
     "data": {
      "text/html": [
       "<pre style=\"white-space:pre;overflow-x:auto;line-height:normal;font-family:Menlo,'DejaVu Sans Mono',consolas,'Courier New',monospace\">┏━━━━━━━━━━━━━━━━━━━━━━━━━━━━━━━━━━━━━━┳━━━━━━━━━━━━━━━━━━━━━━━━━━━━━┳━━━━━━━━━━━━━━━━━┓\n",
       "┃<span style=\"font-weight: bold\"> Layer (type)                         </span>┃<span style=\"font-weight: bold\"> Output Shape                </span>┃<span style=\"font-weight: bold\">         Param # </span>┃\n",
       "┡━━━━━━━━━━━━━━━━━━━━━━━━━━━━━━━━━━━━━━╇━━━━━━━━━━━━━━━━━━━━━━━━━━━━━╇━━━━━━━━━━━━━━━━━┩\n",
       "│ input_layer (<span style=\"color: #0087ff; text-decoration-color: #0087ff\">InputLayer</span>)             │ (<span style=\"color: #00d7ff; text-decoration-color: #00d7ff\">None</span>, <span style=\"color: #00af00; text-decoration-color: #00af00\">394</span>)                 │               <span style=\"color: #00af00; text-decoration-color: #00af00\">0</span> │\n",
       "├──────────────────────────────────────┼─────────────────────────────┼─────────────────┤\n",
       "│ embedding (<span style=\"color: #0087ff; text-decoration-color: #0087ff\">Embedding</span>)                │ (<span style=\"color: #00d7ff; text-decoration-color: #00d7ff\">None</span>, <span style=\"color: #00af00; text-decoration-color: #00af00\">394</span>, <span style=\"color: #00af00; text-decoration-color: #00af00\">128</span>)            │      <span style=\"color: #00af00; text-decoration-color: #00af00\">12,912,000</span> │\n",
       "├──────────────────────────────────────┼─────────────────────────────┼─────────────────┤\n",
       "│ lstm (<span style=\"color: #0087ff; text-decoration-color: #0087ff\">LSTM</span>)                          │ (<span style=\"color: #00d7ff; text-decoration-color: #00d7ff\">None</span>, <span style=\"color: #00af00; text-decoration-color: #00af00\">394</span>, <span style=\"color: #00af00; text-decoration-color: #00af00\">128</span>)            │         <span style=\"color: #00af00; text-decoration-color: #00af00\">131,584</span> │\n",
       "├──────────────────────────────────────┼─────────────────────────────┼─────────────────┤\n",
       "│ dense (<span style=\"color: #0087ff; text-decoration-color: #0087ff\">Dense</span>)                        │ (<span style=\"color: #00d7ff; text-decoration-color: #00d7ff\">None</span>, <span style=\"color: #00af00; text-decoration-color: #00af00\">394</span>, <span style=\"color: #00af00; text-decoration-color: #00af00\">100875</span>)         │      <span style=\"color: #00af00; text-decoration-color: #00af00\">13,012,875</span> │\n",
       "└──────────────────────────────────────┴─────────────────────────────┴─────────────────┘\n",
       "</pre>\n"
      ],
      "text/plain": [
       "┏━━━━━━━━━━━━━━━━━━━━━━━━━━━━━━━━━━━━━━┳━━━━━━━━━━━━━━━━━━━━━━━━━━━━━┳━━━━━━━━━━━━━━━━━┓\n",
       "┃\u001b[1m \u001b[0m\u001b[1mLayer (type)                        \u001b[0m\u001b[1m \u001b[0m┃\u001b[1m \u001b[0m\u001b[1mOutput Shape               \u001b[0m\u001b[1m \u001b[0m┃\u001b[1m \u001b[0m\u001b[1m        Param #\u001b[0m\u001b[1m \u001b[0m┃\n",
       "┡━━━━━━━━━━━━━━━━━━━━━━━━━━━━━━━━━━━━━━╇━━━━━━━━━━━━━━━━━━━━━━━━━━━━━╇━━━━━━━━━━━━━━━━━┩\n",
       "│ input_layer (\u001b[38;5;33mInputLayer\u001b[0m)             │ (\u001b[38;5;45mNone\u001b[0m, \u001b[38;5;34m394\u001b[0m)                 │               \u001b[38;5;34m0\u001b[0m │\n",
       "├──────────────────────────────────────┼─────────────────────────────┼─────────────────┤\n",
       "│ embedding (\u001b[38;5;33mEmbedding\u001b[0m)                │ (\u001b[38;5;45mNone\u001b[0m, \u001b[38;5;34m394\u001b[0m, \u001b[38;5;34m128\u001b[0m)            │      \u001b[38;5;34m12,912,000\u001b[0m │\n",
       "├──────────────────────────────────────┼─────────────────────────────┼─────────────────┤\n",
       "│ lstm (\u001b[38;5;33mLSTM\u001b[0m)                          │ (\u001b[38;5;45mNone\u001b[0m, \u001b[38;5;34m394\u001b[0m, \u001b[38;5;34m128\u001b[0m)            │         \u001b[38;5;34m131,584\u001b[0m │\n",
       "├──────────────────────────────────────┼─────────────────────────────┼─────────────────┤\n",
       "│ dense (\u001b[38;5;33mDense\u001b[0m)                        │ (\u001b[38;5;45mNone\u001b[0m, \u001b[38;5;34m394\u001b[0m, \u001b[38;5;34m100875\u001b[0m)         │      \u001b[38;5;34m13,012,875\u001b[0m │\n",
       "└──────────────────────────────────────┴─────────────────────────────┴─────────────────┘\n"
      ]
     },
     "metadata": {},
     "output_type": "display_data"
    },
    {
     "data": {
      "text/html": [
       "<pre style=\"white-space:pre;overflow-x:auto;line-height:normal;font-family:Menlo,'DejaVu Sans Mono',consolas,'Courier New',monospace\"><span style=\"font-weight: bold\"> Total params: </span><span style=\"color: #00af00; text-decoration-color: #00af00\">26,056,459</span> (99.40 MB)\n",
       "</pre>\n"
      ],
      "text/plain": [
       "\u001b[1m Total params: \u001b[0m\u001b[38;5;34m26,056,459\u001b[0m (99.40 MB)\n"
      ]
     },
     "metadata": {},
     "output_type": "display_data"
    },
    {
     "data": {
      "text/html": [
       "<pre style=\"white-space:pre;overflow-x:auto;line-height:normal;font-family:Menlo,'DejaVu Sans Mono',consolas,'Courier New',monospace\"><span style=\"font-weight: bold\"> Trainable params: </span><span style=\"color: #00af00; text-decoration-color: #00af00\">26,056,459</span> (99.40 MB)\n",
       "</pre>\n"
      ],
      "text/plain": [
       "\u001b[1m Trainable params: \u001b[0m\u001b[38;5;34m26,056,459\u001b[0m (99.40 MB)\n"
      ]
     },
     "metadata": {},
     "output_type": "display_data"
    },
    {
     "data": {
      "text/html": [
       "<pre style=\"white-space:pre;overflow-x:auto;line-height:normal;font-family:Menlo,'DejaVu Sans Mono',consolas,'Courier New',monospace\"><span style=\"font-weight: bold\"> Non-trainable params: </span><span style=\"color: #00af00; text-decoration-color: #00af00\">0</span> (0.00 B)\n",
       "</pre>\n"
      ],
      "text/plain": [
       "\u001b[1m Non-trainable params: \u001b[0m\u001b[38;5;34m0\u001b[0m (0.00 B)\n"
      ]
     },
     "metadata": {},
     "output_type": "display_data"
    }
   ],
   "source": [
    "model.summary()"
   ]
  },
  {
   "cell_type": "code",
   "execution_count": 30,
   "metadata": {
    "execution": {
     "iopub.execute_input": "2025-02-01T15:22:47.457445Z",
     "iopub.status.busy": "2025-02-01T15:22:47.457121Z",
     "iopub.status.idle": "2025-02-01T18:43:38.245155Z",
     "shell.execute_reply": "2025-02-01T18:43:38.244399Z",
     "shell.execute_reply.started": "2025-02-01T15:22:47.457420Z"
    },
    "trusted": true
   },
   "outputs": [
    {
     "name": "stdout",
     "output_type": "stream",
     "text": [
      "Epoch 1/16\n",
      "\u001b[1m1033/1033\u001b[0m \u001b[32m━━━━━━━━━━━━━━━━━━━━\u001b[0m\u001b[37m\u001b[0m \u001b[1m735s\u001b[0m 708ms/step - accuracy: 0.8675 - loss: 2.4295 - val_accuracy: 0.8764 - val_loss: 1.1044\n",
      "Epoch 2/16\n",
      "\u001b[1m1033/1033\u001b[0m \u001b[32m━━━━━━━━━━━━━━━━━━━━\u001b[0m\u001b[37m\u001b[0m \u001b[1m746s\u001b[0m 722ms/step - accuracy: 0.8793 - loss: 1.0732 - val_accuracy: 0.8908 - val_loss: 1.0139\n",
      "Epoch 3/16\n",
      "\u001b[1m1033/1033\u001b[0m \u001b[32m━━━━━━━━━━━━━━━━━━━━\u001b[0m\u001b[37m\u001b[0m \u001b[1m746s\u001b[0m 723ms/step - accuracy: 0.8953 - loss: 0.9435 - val_accuracy: 0.9062 - val_loss: 0.8890\n",
      "Epoch 4/16\n",
      "\u001b[1m1033/1033\u001b[0m \u001b[32m━━━━━━━━━━━━━━━━━━━━\u001b[0m\u001b[37m\u001b[0m \u001b[1m747s\u001b[0m 723ms/step - accuracy: 0.9098 - loss: 0.7946 - val_accuracy: 0.9166 - val_loss: 0.7903\n",
      "Epoch 5/16\n",
      "\u001b[1m1033/1033\u001b[0m \u001b[32m━━━━━━━━━━━━━━━━━━━━\u001b[0m\u001b[37m\u001b[0m \u001b[1m749s\u001b[0m 725ms/step - accuracy: 0.9235 - loss: 0.6481 - val_accuracy: 0.9227 - val_loss: 0.7285\n",
      "Epoch 6/16\n",
      "\u001b[1m1033/1033\u001b[0m \u001b[32m━━━━━━━━━━━━━━━━━━━━\u001b[0m\u001b[37m\u001b[0m \u001b[1m752s\u001b[0m 728ms/step - accuracy: 0.9349 - loss: 0.5334 - val_accuracy: 0.9262 - val_loss: 0.6813\n",
      "Epoch 7/16\n",
      "\u001b[1m1033/1033\u001b[0m \u001b[32m━━━━━━━━━━━━━━━━━━━━\u001b[0m\u001b[37m\u001b[0m \u001b[1m753s\u001b[0m 729ms/step - accuracy: 0.9443 - loss: 0.4409 - val_accuracy: 0.9292 - val_loss: 0.6522\n",
      "Epoch 8/16\n",
      "\u001b[1m1033/1033\u001b[0m \u001b[32m━━━━━━━━━━━━━━━━━━━━\u001b[0m\u001b[37m\u001b[0m \u001b[1m756s\u001b[0m 732ms/step - accuracy: 0.9519 - loss: 0.3685 - val_accuracy: 0.9292 - val_loss: 0.6357\n",
      "Epoch 9/16\n",
      "\u001b[1m1033/1033\u001b[0m \u001b[32m━━━━━━━━━━━━━━━━━━━━\u001b[0m\u001b[37m\u001b[0m \u001b[1m757s\u001b[0m 733ms/step - accuracy: 0.9584 - loss: 0.3088 - val_accuracy: 0.9302 - val_loss: 0.6238\n",
      "Epoch 10/16\n",
      "\u001b[1m1033/1033\u001b[0m \u001b[32m━━━━━━━━━━━━━━━━━━━━\u001b[0m\u001b[37m\u001b[0m \u001b[1m758s\u001b[0m 734ms/step - accuracy: 0.9643 - loss: 0.2579 - val_accuracy: 0.9315 - val_loss: 0.6204\n",
      "Epoch 11/16\n",
      "\u001b[1m1033/1033\u001b[0m \u001b[32m━━━━━━━━━━━━━━━━━━━━\u001b[0m\u001b[37m\u001b[0m \u001b[1m758s\u001b[0m 734ms/step - accuracy: 0.9706 - loss: 0.2138 - val_accuracy: 0.9335 - val_loss: 0.6173\n",
      "Epoch 12/16\n",
      "\u001b[1m1033/1033\u001b[0m \u001b[32m━━━━━━━━━━━━━━━━━━━━\u001b[0m\u001b[37m\u001b[0m \u001b[1m758s\u001b[0m 734ms/step - accuracy: 0.9766 - loss: 0.1784 - val_accuracy: 0.9304 - val_loss: 0.6157\n",
      "Epoch 13/16\n",
      "\u001b[1m1033/1033\u001b[0m \u001b[32m━━━━━━━━━━━━━━━━━━━━\u001b[0m\u001b[37m\u001b[0m \u001b[1m758s\u001b[0m 734ms/step - accuracy: 0.9810 - loss: 0.1498 - val_accuracy: 0.9339 - val_loss: 0.6220\n",
      "Epoch 14/16\n",
      "\u001b[1m1033/1033\u001b[0m \u001b[32m━━━━━━━━━━━━━━━━━━━━\u001b[0m\u001b[37m\u001b[0m \u001b[1m759s\u001b[0m 735ms/step - accuracy: 0.9845 - loss: 0.1223 - val_accuracy: 0.9304 - val_loss: 0.6200\n",
      "Epoch 15/16\n",
      "\u001b[1m1033/1033\u001b[0m \u001b[32m━━━━━━━━━━━━━━━━━━━━\u001b[0m\u001b[37m\u001b[0m \u001b[1m759s\u001b[0m 735ms/step - accuracy: 0.9863 - loss: 0.1038 - val_accuracy: 0.9308 - val_loss: 0.6226\n",
      "Epoch 16/16\n",
      "\u001b[1m1033/1033\u001b[0m \u001b[32m━━━━━━━━━━━━━━━━━━━━\u001b[0m\u001b[37m\u001b[0m \u001b[1m759s\u001b[0m 735ms/step - accuracy: 0.9875 - loss: 0.0909 - val_accuracy: 0.9310 - val_loss: 0.6276\n"
     ]
    },
    {
     "data": {
      "text/plain": [
       "<keras.src.callbacks.history.History at 0x7ee1b9fd6c80>"
      ]
     },
     "execution_count": 30,
     "metadata": {},
     "output_type": "execute_result"
    }
   ],
   "source": [
    "# Train the model\n",
    "model.fit(X_train, y_train, validation_data=(X_val, y_val), batch_size=16, epochs=16)"
   ]
  },
  {
   "cell_type": "markdown",
   "metadata": {},
   "source": [
    "# Save The Model"
   ]
  },
  {
   "cell_type": "code",
   "execution_count": 31,
   "metadata": {
    "execution": {
     "iopub.execute_input": "2025-02-01T18:56:58.710927Z",
     "iopub.status.busy": "2025-02-01T18:56:58.710628Z",
     "iopub.status.idle": "2025-02-01T18:56:59.489366Z",
     "shell.execute_reply": "2025-02-01T18:56:59.488473Z",
     "shell.execute_reply.started": "2025-02-01T18:56:58.710905Z"
    },
    "trusted": true
   },
   "outputs": [],
   "source": [
    "# Save the model\n",
    "model.save('auto_correction_model.h5')"
   ]
  },
  {
   "cell_type": "code",
   "execution_count": 32,
   "metadata": {
    "execution": {
     "iopub.execute_input": "2025-02-01T18:57:04.270845Z",
     "iopub.status.busy": "2025-02-01T18:57:04.270558Z",
     "iopub.status.idle": "2025-02-01T18:57:26.098954Z",
     "shell.execute_reply": "2025-02-01T18:57:26.098258Z",
     "shell.execute_reply.started": "2025-02-01T18:57:04.270823Z"
    },
    "trusted": true
   },
   "outputs": [
    {
     "name": "stdout",
     "output_type": "stream",
     "text": [
      " علي العب العربي التركيز\n"
     ]
    },
    {
     "name": "stdout",
     "output_type": "stream",
     "text": [
      "\u001b[1m1/1\u001b[0m \u001b[32m━━━━━━━━━━━━━━━━━━━━\u001b[0m\u001b[37m\u001b[0m \u001b[1m0s\u001b[0m 103ms/step\n",
      "Corrected Output: ['علي الشعب العربي التركيز']\n"
     ]
    }
   ],
   "source": [
    "# Tokenize the input text\n",
    "input_text =str(input())\n",
    "input_sequence = tokenizer.texts_to_sequences([input_text])\n",
    "\n",
    "# Pad the input sequence\n",
    "padded_input_sequence = pad_sequences(input_sequence, maxlen=max_sequence_length, padding='post')\n",
    "\n",
    "# Predict the corrected output\n",
    "output_sequence = model.predict(padded_input_sequence)\n",
    "corrected_output_sequence = np.argmax(output_sequence, axis=-1)\n",
    "\n",
    "# Convert the corrected output sequence back to text\n",
    "corrected_output_text = tokenizer.sequences_to_texts(corrected_output_sequence)\n",
    "\n",
    "print(\"Corrected Output:\", corrected_output_text)"
   ]
  },
  {
   "cell_type": "code",
   "execution_count": 33,
   "metadata": {
    "execution": {
     "iopub.execute_input": "2025-02-01T18:57:40.772247Z",
     "iopub.status.busy": "2025-02-01T18:57:40.771965Z",
     "iopub.status.idle": "2025-02-01T18:57:40.860143Z",
     "shell.execute_reply": "2025-02-01T18:57:40.859052Z",
     "shell.execute_reply.started": "2025-02-01T18:57:40.772224Z"
    },
    "trusted": true
   },
   "outputs": [],
   "source": [
    "from tensorflow.keras.preprocessing.text import Tokenizer\n",
    "import pickle\n",
    "# Assuming you already have a tokenizer object named 'tokenizer'\n",
    "\n",
    "# Save the tokenizer\n",
    "tokenizer_path = 'tokenizer.pkl'\n",
    "with open(tokenizer_path, 'wb') as f:\n",
    "    pickle.dump(tokenizer, f)"
   ]
  },
  {
   "cell_type": "code",
   "execution_count": 34,
   "metadata": {
    "execution": {
     "iopub.execute_input": "2025-02-01T18:57:46.533211Z",
     "iopub.status.busy": "2025-02-01T18:57:46.532902Z",
     "iopub.status.idle": "2025-02-01T18:57:46.655260Z",
     "shell.execute_reply": "2025-02-01T18:57:46.654383Z",
     "shell.execute_reply.started": "2025-02-01T18:57:46.533185Z"
    },
    "trusted": true
   },
   "outputs": [],
   "source": [
    "from tensorflow.keras.preprocessing.text import Tokenizer\n",
    "\n",
    "# Load the tokenizer\n",
    "tokenizer_path = 'tokenizer.pkl'\n",
    "with open(tokenizer_path, 'rb') as f:\n",
    "    tokenizer = pickle.load(f)"
   ]
  },
  {
   "cell_type": "markdown",
   "metadata": {},
   "source": [
    "# Result"
   ]
  },
  {
   "cell_type": "code",
   "execution_count": 35,
   "metadata": {
    "execution": {
     "iopub.execute_input": "2025-02-01T18:58:06.758684Z",
     "iopub.status.busy": "2025-02-01T18:58:06.758302Z",
     "iopub.status.idle": "2025-02-01T18:58:06.763082Z",
     "shell.execute_reply": "2025-02-01T18:58:06.762294Z",
     "shell.execute_reply.started": "2025-02-01T18:58:06.758655Z"
    },
    "trusted": true
   },
   "outputs": [],
   "source": [
    "def predict(input_text):\n",
    "    input_sequence = tokenizer.texts_to_sequences([input_text])\n",
    "\n",
    "    # Pad the input sequence\n",
    "    padded_input_sequence = pad_sequences(input_sequence, maxlen=max_sequence_length, padding='post')\n",
    "\n",
    "    # Predict the corrected output\n",
    "    output_sequence = model.predict(padded_input_sequence)\n",
    "    corrected_output_sequence = np.argmax(output_sequence, axis=-1)\n",
    "\n",
    "    # Convert the corrected output sequence back to text\n",
    "    corrected_output_text = tokenizer.sequences_to_texts(corrected_output_sequence)\n",
    "\n",
    "    return corrected_output_text"
   ]
  },
  {
   "cell_type": "code",
   "execution_count": 36,
   "metadata": {
    "execution": {
     "iopub.execute_input": "2025-02-01T18:58:13.269639Z",
     "iopub.status.busy": "2025-02-01T18:58:13.269330Z",
     "iopub.status.idle": "2025-02-01T18:58:13.274872Z",
     "shell.execute_reply": "2025-02-01T18:58:13.274186Z",
     "shell.execute_reply.started": "2025-02-01T18:58:13.269614Z"
    },
    "trusted": true
   },
   "outputs": [
    {
     "data": {
      "text/plain": [
       "7"
      ]
     },
     "execution_count": 36,
     "metadata": {},
     "output_type": "execute_result"
    }
   ],
   "source": [
    "sentences = [\n",
    "    \"علي العب العربي التركيز\",\n",
    "    \"يجب قول الحف\",\n",
    "    \"الحياه ف سوريا صعبه\",\n",
    "    \"سلام علي الوطن العبي\",\n",
    "    \"اذا اردت ان تضحك ليك بمشاهده برامج التلفزيون\",\n",
    "    \"الذهاب و العوده انر صعب\",\n",
    "    \"اعتقد ان اي مسلم من المستحيل ان يفعل هذا سواء\",\n",
    "]\n",
    "len (sentences)"
   ]
  },
  {
   "cell_type": "code",
   "execution_count": 37,
   "metadata": {
    "execution": {
     "iopub.execute_input": "2025-02-01T18:58:20.474581Z",
     "iopub.status.busy": "2025-02-01T18:58:20.474233Z",
     "iopub.status.idle": "2025-02-01T18:58:22.520803Z",
     "shell.execute_reply": "2025-02-01T18:58:22.520064Z",
     "shell.execute_reply.started": "2025-02-01T18:58:20.474554Z"
    },
    "trusted": true
   },
   "outputs": [
    {
     "name": "stdout",
     "output_type": "stream",
     "text": [
      "\u001b[1m1/1\u001b[0m \u001b[32m━━━━━━━━━━━━━━━━━━━━\u001b[0m\u001b[37m\u001b[0m \u001b[1m0s\u001b[0m 20ms/step\n",
      "Corrected text: ['علي الشعب العربي التركيز']\n",
      "\u001b[1m1/1\u001b[0m \u001b[32m━━━━━━━━━━━━━━━━━━━━\u001b[0m\u001b[37m\u001b[0m \u001b[1m0s\u001b[0m 20ms/step\n",
      "Corrected text: ['يجب قول']\n",
      "\u001b[1m1/1\u001b[0m \u001b[32m━━━━━━━━━━━━━━━━━━━━\u001b[0m\u001b[37m\u001b[0m \u001b[1m0s\u001b[0m 20ms/step\n",
      "Corrected text: ['الحياه في سوريا صعبه']\n",
      "\u001b[1m1/1\u001b[0m \u001b[32m━━━━━━━━━━━━━━━━━━━━\u001b[0m\u001b[37m\u001b[0m \u001b[1m0s\u001b[0m 20ms/step\n",
      "Corrected text: ['سلام علي الوطن تعدي']\n",
      "\u001b[1m1/1\u001b[0m \u001b[32m━━━━━━━━━━━━━━━━━━━━\u001b[0m\u001b[37m\u001b[0m \u001b[1m0s\u001b[0m 20ms/step\n",
      "Corrected text: ['اذا اردت ان تضحك بمشاهده برامج التلفزيون']\n",
      "\u001b[1m1/1\u001b[0m \u001b[32m━━━━━━━━━━━━━━━━━━━━\u001b[0m\u001b[37m\u001b[0m \u001b[1m0s\u001b[0m 20ms/step\n",
      "Corrected text: ['الذهاب و العوده صعب']\n",
      "\u001b[1m1/1\u001b[0m \u001b[32m━━━━━━━━━━━━━━━━━━━━\u001b[0m\u001b[37m\u001b[0m \u001b[1m0s\u001b[0m 21ms/step\n",
      "Corrected text: ['اعتقد ان اي مسلم من المستحيل ان يفعل هذا سواء']\n"
     ]
    }
   ],
   "source": [
    "prediction=[]\n",
    "for i in range(len(sentences)):\n",
    "    corrected_text = predict(sentences[i])\n",
    "    print(\"Corrected text:\", corrected_text)\n",
    "    prediction.append(corrected_text)"
   ]
  }
 ],
 "metadata": {
  "kaggle": {
   "accelerator": "none",
   "dataSources": [
    {
     "datasetId": 4798275,
     "sourceId": 8120575,
     "sourceType": "datasetVersion"
    }
   ],
   "isGpuEnabled": false,
   "isInternetEnabled": true,
   "language": "python",
   "sourceType": "notebook"
  },
  "kernelspec": {
   "display_name": "Python 3",
   "language": "python",
   "name": "python3"
  },
  "language_info": {
   "codemirror_mode": {
    "name": "ipython",
    "version": 3
   },
   "file_extension": ".py",
   "mimetype": "text/x-python",
   "name": "python",
   "nbconvert_exporter": "python",
   "pygments_lexer": "ipython3",
   "version": "3.12.8"
  }
 },
 "nbformat": 4,
 "nbformat_minor": 4
}
